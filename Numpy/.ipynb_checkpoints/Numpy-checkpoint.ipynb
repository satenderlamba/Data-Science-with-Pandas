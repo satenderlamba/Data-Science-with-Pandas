{
 "cells": [
  {
   "cell_type": "markdown",
   "id": "079ddc32",
   "metadata": {},
   "source": [
    "# 1. Numpy package"
   ]
  },
  {
   "cell_type": "markdown",
   "id": "2fd8cc2e",
   "metadata": {},
   "source": [
    "## 1.1 numpy array basics"
   ]
  },
  {
   "cell_type": "code",
   "execution_count": 1,
   "id": "93fd8088",
   "metadata": {},
   "outputs": [],
   "source": [
    "import numpy as np"
   ]
  },
  {
   "cell_type": "code",
   "execution_count": 2,
   "id": "ea42bdc6",
   "metadata": {},
   "outputs": [
    {
     "data": {
      "text/plain": [
       "[1, 2, 3, 4, 5, 6, 7, 8, 9, 10]"
      ]
     },
     "execution_count": 2,
     "metadata": {},
     "output_type": "execute_result"
    }
   ],
   "source": [
    "l  = list(range(1,11))\n",
    "l"
   ]
  },
  {
   "cell_type": "code",
   "execution_count": 5,
   "id": "8c0e9c79",
   "metadata": {},
   "outputs": [
    {
     "name": "stdout",
     "output_type": "stream",
     "text": [
      "[ 1  2  3  4  5  6  7  8  9 10]\n"
     ]
    }
   ],
   "source": [
    "my_array = np.array(l) #transform array to numpy array (ndarray)\n",
    "print(my_array)"
   ]
  },
  {
   "cell_type": "code",
   "execution_count": 7,
   "id": "bf92d07b",
   "metadata": {},
   "outputs": [
    {
     "data": {
      "text/plain": [
       "numpy.ndarray"
      ]
     },
     "execution_count": 7,
     "metadata": {},
     "output_type": "execute_result"
    }
   ],
   "source": [
    "type(my_array)"
   ]
  },
  {
   "cell_type": "code",
   "execution_count": 8,
   "id": "f7ce5eee",
   "metadata": {},
   "outputs": [
    {
     "name": "stdout",
     "output_type": "stream",
     "text": [
      "1\n",
      "2\n",
      "3\n",
      "4\n",
      "5\n",
      "6\n",
      "7\n",
      "8\n",
      "9\n",
      "10\n"
     ]
    }
   ],
   "source": [
    "for i in my_array:    # can be iterated like lists\n",
    "    print(i)\n"
   ]
  },
  {
   "cell_type": "markdown",
   "id": "60e10b9a",
   "metadata": {},
   "source": [
    "### in arrays, all elements must have same data types unlike lists."
   ]
  },
  {
   "cell_type": "code",
   "execution_count": 9,
   "id": "69dc68ed",
   "metadata": {},
   "outputs": [
    {
     "data": {
      "text/plain": [
       "[1, 2.5, 'Dog', True]"
      ]
     },
     "execution_count": 9,
     "metadata": {},
     "output_type": "execute_result"
    }
   ],
   "source": [
    "l = [1,2.5,\"Dog\", True]\n",
    "l"
   ]
  },
  {
   "cell_type": "code",
   "execution_count": 11,
   "id": "b86ac5b3",
   "metadata": {},
   "outputs": [
    {
     "name": "stdout",
     "output_type": "stream",
     "text": [
      "['1' '2.5' 'Dog' 'True']\n"
     ]
    }
   ],
   "source": [
    "new_array = np.array(l)\n",
    "print(new_array)   #all are converted to string"
   ]
  },
  {
   "cell_type": "code",
   "execution_count": 13,
   "id": "ca9ba3f4",
   "metadata": {},
   "outputs": [
    {
     "name": "stdout",
     "output_type": "stream",
     "text": [
      "<class 'numpy.str_'>\n",
      "<class 'numpy.str_'>\n",
      "<class 'numpy.str_'>\n",
      "<class 'numpy.str_'>\n"
     ]
    }
   ],
   "source": [
    "for i in new_array:  #checking the type, which is string\n",
    "    print(type(i))"
   ]
  },
  {
   "cell_type": "code",
   "execution_count": 20,
   "id": "ea14815b",
   "metadata": {},
   "outputs": [
    {
     "data": {
      "text/plain": [
       "array(['1.0', '2', '3'], dtype='<U32')"
      ]
     },
     "execution_count": 20,
     "metadata": {},
     "output_type": "execute_result"
    }
   ],
   "source": [
    "b = np.array([1.,2,\"3\"])\n",
    "b"
   ]
  },
  {
   "cell_type": "code",
   "execution_count": 21,
   "id": "5d9c34de",
   "metadata": {},
   "outputs": [
    {
     "data": {
      "text/plain": [
       "numpy.ndarray"
      ]
     },
     "execution_count": 21,
     "metadata": {},
     "output_type": "execute_result"
    }
   ],
   "source": [
    "type(b)"
   ]
  },
  {
   "cell_type": "code",
   "execution_count": 22,
   "id": "b3afcd2c",
   "metadata": {},
   "outputs": [
    {
     "data": {
      "text/plain": [
       "dtype('<U32')"
      ]
     },
     "execution_count": 22,
     "metadata": {},
     "output_type": "execute_result"
    }
   ],
   "source": [
    "b.dtype #can check single datatype of all elements"
   ]
  },
  {
   "cell_type": "markdown",
   "id": "ec4d9d23",
   "metadata": {},
   "source": [
    "## 1.2 numpy array( element wise operations / vectorisation)"
   ]
  },
  {
   "cell_type": "code",
   "execution_count": 23,
   "id": "30402e6a",
   "metadata": {},
   "outputs": [],
   "source": [
    "import numpy as np"
   ]
  },
  {
   "cell_type": "code",
   "execution_count": 25,
   "id": "21dff335",
   "metadata": {},
   "outputs": [
    {
     "data": {
      "text/plain": [
       "array([ 1,  2,  3,  4,  5,  6,  7,  8,  9, 10])"
      ]
     },
     "execution_count": 25,
     "metadata": {},
     "output_type": "execute_result"
    }
   ],
   "source": [
    "np.arange(1,11) #create ndarray from 1 to 10"
   ]
  },
  {
   "cell_type": "code",
   "execution_count": 28,
   "id": "6952986a",
   "metadata": {},
   "outputs": [
    {
     "data": {
      "text/plain": [
       "array([1, 3, 5, 7, 9])"
      ]
     },
     "execution_count": 28,
     "metadata": {},
     "output_type": "execute_result"
    }
   ],
   "source": [
    "np.arange(1,11,2) #every second no. from 1 to 10"
   ]
  },
  {
   "cell_type": "markdown",
   "id": "6cc30174",
   "metadata": {},
   "source": [
    "### differences b/w lists and ndarrays"
   ]
  },
  {
   "cell_type": "code",
   "execution_count": 29,
   "id": "726c0296",
   "metadata": {},
   "outputs": [
    {
     "data": {
      "text/plain": [
       "[1, 2, 3, 4]"
      ]
     },
     "execution_count": 29,
     "metadata": {},
     "output_type": "execute_result"
    }
   ],
   "source": [
    "l = [1,2,3,4]\n",
    "l"
   ]
  },
  {
   "cell_type": "code",
   "execution_count": 30,
   "id": "4fa0c428",
   "metadata": {},
   "outputs": [
    {
     "data": {
      "text/plain": [
       "[1, 2, 3, 4, 1, 2, 3, 4]"
      ]
     },
     "execution_count": 30,
     "metadata": {},
     "output_type": "execute_result"
    }
   ],
   "source": [
    "l*2  #not an element wise operation"
   ]
  },
  {
   "cell_type": "code",
   "execution_count": 32,
   "id": "582aa1e9",
   "metadata": {},
   "outputs": [
    {
     "data": {
      "text/plain": [
       "[2, 4, 6, 8]"
      ]
     },
     "execution_count": 32,
     "metadata": {},
     "output_type": "execute_result"
    }
   ],
   "source": [
    "l1 = []  #element wise operation requires alot of code\n",
    "for i in l:\n",
    "    l1.append(i*2)\n",
    "l1"
   ]
  },
  {
   "cell_type": "code",
   "execution_count": 33,
   "id": "a5a5c15a",
   "metadata": {},
   "outputs": [
    {
     "ename": "TypeError",
     "evalue": "can only concatenate list (not \"int\") to list",
     "output_type": "error",
     "traceback": [
      "\u001b[1;31m---------------------------------------------------------------------------\u001b[0m",
      "\u001b[1;31mTypeError\u001b[0m                                 Traceback (most recent call last)",
      "\u001b[1;32m<ipython-input-33-852ea66ac34f>\u001b[0m in \u001b[0;36m<module>\u001b[1;34m\u001b[0m\n\u001b[1;32m----> 1\u001b[1;33m \u001b[0ml\u001b[0m\u001b[1;33m+\u001b[0m\u001b[1;36m2\u001b[0m \u001b[1;31m#not an element wise operation and doesn't work at all :(\u001b[0m\u001b[1;33m\u001b[0m\u001b[1;33m\u001b[0m\u001b[0m\n\u001b[0m",
      "\u001b[1;31mTypeError\u001b[0m: can only concatenate list (not \"int\") to list"
     ]
    }
   ],
   "source": [
    "l+2 #not an element wise operation and doesn't work at all :("
   ]
  },
  {
   "cell_type": "code",
   "execution_count": 34,
   "id": "880ef76d",
   "metadata": {},
   "outputs": [
    {
     "data": {
      "text/plain": [
       "array([1, 2, 3, 4])"
      ]
     },
     "execution_count": 34,
     "metadata": {},
     "output_type": "execute_result"
    }
   ],
   "source": [
    "a = np.arange(1,5) #create ndarray with elements as 1-4\n",
    "a"
   ]
  },
  {
   "cell_type": "code",
   "execution_count": 37,
   "id": "9571846a",
   "metadata": {},
   "outputs": [
    {
     "name": "stdout",
     "output_type": "stream",
     "text": [
      "[2 4 6 8]\n",
      "[3 4 5 6]\n",
      "[0.5 1.  1.5 2. ]\n",
      "[-1  0  1  2]\n",
      "[ 1  4  9 16]\n",
      "[ 2  4  8 16]\n"
     ]
    }
   ],
   "source": [
    "print(a*2, a+2, a/2, a-2, a**2, 2**a, sep = \"\\n\")  #element wise operations are possible and easy"
   ]
  },
  {
   "cell_type": "code",
   "execution_count": 39,
   "id": "287fad44",
   "metadata": {},
   "outputs": [
    {
     "data": {
      "text/plain": [
       "array([1.        , 1.41421356, 1.73205081, 2.        ])"
      ]
     },
     "execution_count": 39,
     "metadata": {},
     "output_type": "execute_result"
    }
   ],
   "source": [
    "np.sqrt(a)  #srqt of all elements"
   ]
  },
  {
   "cell_type": "code",
   "execution_count": 40,
   "id": "e5289036",
   "metadata": {},
   "outputs": [
    {
     "data": {
      "text/plain": [
       "array([0.        , 0.69314718, 1.09861229, 1.38629436])"
      ]
     },
     "execution_count": 40,
     "metadata": {},
     "output_type": "execute_result"
    }
   ],
   "source": [
    "np.log(a)"
   ]
  },
  {
   "cell_type": "code",
   "execution_count": 41,
   "id": "abea5d43",
   "metadata": {},
   "outputs": [
    {
     "data": {
      "text/plain": [
       "10"
      ]
     },
     "execution_count": 41,
     "metadata": {},
     "output_type": "execute_result"
    }
   ],
   "source": [
    "np.sum(a)"
   ]
  },
  {
   "cell_type": "code",
   "execution_count": 45,
   "id": "1b9ccf42",
   "metadata": {},
   "outputs": [
    {
     "data": {
      "text/plain": [
       "10"
      ]
     },
     "execution_count": 45,
     "metadata": {},
     "output_type": "execute_result"
    }
   ],
   "source": [
    "a.sum()"
   ]
  },
  {
   "cell_type": "code",
   "execution_count": 46,
   "id": "7ed13791",
   "metadata": {},
   "outputs": [
    {
     "data": {
      "text/plain": [
       "10"
      ]
     },
     "execution_count": 46,
     "metadata": {},
     "output_type": "execute_result"
    }
   ],
   "source": [
    "sum(a)"
   ]
  },
  {
   "cell_type": "code",
   "execution_count": 48,
   "id": "601f408b",
   "metadata": {},
   "outputs": [
    {
     "data": {
      "text/plain": [
       "4"
      ]
     },
     "execution_count": 48,
     "metadata": {},
     "output_type": "execute_result"
    }
   ],
   "source": [
    "a.size #no. of elements in ndarray"
   ]
  },
  {
   "cell_type": "code",
   "execution_count": 49,
   "id": "028db4c7",
   "metadata": {},
   "outputs": [
    {
     "data": {
      "text/plain": [
       "4"
      ]
     },
     "execution_count": 49,
     "metadata": {},
     "output_type": "execute_result"
    }
   ],
   "source": [
    "len(a)  #same as size"
   ]
  },
  {
   "cell_type": "code",
   "execution_count": 52,
   "id": "d44ca11a",
   "metadata": {},
   "outputs": [],
   "source": [
    "a[1] = 34.5"
   ]
  },
  {
   "cell_type": "code",
   "execution_count": 54,
   "id": "34a035f9",
   "metadata": {},
   "outputs": [
    {
     "data": {
      "text/plain": [
       "array([ 1, 34,  3,  4])"
      ]
     },
     "execution_count": 54,
     "metadata": {},
     "output_type": "execute_result"
    }
   ],
   "source": [
    "np.abs(a) #absolute values of all elements"
   ]
  },
  {
   "cell_type": "code",
   "execution_count": 56,
   "id": "346f5a86",
   "metadata": {},
   "outputs": [
    {
     "data": {
      "text/plain": [
       "array([ 1., 34.,  3.,  4.])"
      ]
     },
     "execution_count": 56,
     "metadata": {},
     "output_type": "execute_result"
    }
   ],
   "source": [
    "np.ceil(a) #rounding up element wise"
   ]
  },
  {
   "cell_type": "code",
   "execution_count": 57,
   "id": "aa0faa4b",
   "metadata": {},
   "outputs": [],
   "source": [
    "l  = [1.2,3,4]"
   ]
  },
  {
   "cell_type": "code",
   "execution_count": 58,
   "id": "4af87702",
   "metadata": {},
   "outputs": [
    {
     "ename": "AttributeError",
     "evalue": "type object 'list' has no attribute 'ceil'",
     "output_type": "error",
     "traceback": [
      "\u001b[1;31m---------------------------------------------------------------------------\u001b[0m",
      "\u001b[1;31mAttributeError\u001b[0m                            Traceback (most recent call last)",
      "\u001b[1;32m<ipython-input-58-15d0b5a7859a>\u001b[0m in \u001b[0;36m<module>\u001b[1;34m\u001b[0m\n\u001b[1;32m----> 1\u001b[1;33m \u001b[0mlist\u001b[0m\u001b[1;33m.\u001b[0m\u001b[0mceil\u001b[0m\u001b[1;33m(\u001b[0m\u001b[0ml\u001b[0m\u001b[1;33m)\u001b[0m\u001b[1;33m\u001b[0m\u001b[1;33m\u001b[0m\u001b[0m\n\u001b[0m",
      "\u001b[1;31mAttributeError\u001b[0m: type object 'list' has no attribute 'ceil'"
     ]
    }
   ],
   "source": [
    "list.ceil(l)"
   ]
  },
  {
   "cell_type": "code",
   "execution_count": 68,
   "id": "b2e0838f",
   "metadata": {},
   "outputs": [
    {
     "data": {
      "text/plain": [
       "array([2.3])"
      ]
     },
     "execution_count": 68,
     "metadata": {},
     "output_type": "execute_result"
    }
   ],
   "source": [
    "np.around(([2.33]), decimals = 1)  # rounds to given decimal points"
   ]
  },
  {
   "cell_type": "markdown",
   "id": "39e57d39",
   "metadata": {},
   "source": [
    "## 1.3 numpy array (indexing and slicing)"
   ]
  },
  {
   "cell_type": "code",
   "execution_count": 69,
   "id": "f08aa9cb",
   "metadata": {},
   "outputs": [],
   "source": [
    "import numpy as np"
   ]
  },
  {
   "cell_type": "code",
   "execution_count": 70,
   "id": "38f2425d",
   "metadata": {},
   "outputs": [
    {
     "data": {
      "text/plain": [
       "array([ 1,  2,  3,  4,  5,  6,  7,  8,  9, 10])"
      ]
     },
     "execution_count": 70,
     "metadata": {},
     "output_type": "execute_result"
    }
   ],
   "source": [
    "a = np.arange(1,11)  #array from 1 to 10 \n",
    "a"
   ]
  },
  {
   "cell_type": "code",
   "execution_count": 71,
   "id": "f879d9fb",
   "metadata": {},
   "outputs": [
    {
     "data": {
      "text/plain": [
       "1"
      ]
     },
     "execution_count": 71,
     "metadata": {},
     "output_type": "execute_result"
    }
   ],
   "source": [
    "a[0]"
   ]
  },
  {
   "cell_type": "code",
   "execution_count": 72,
   "id": "1e93324d",
   "metadata": {},
   "outputs": [
    {
     "data": {
      "text/plain": [
       "10"
      ]
     },
     "execution_count": 72,
     "metadata": {},
     "output_type": "execute_result"
    }
   ],
   "source": [
    "a[-1]"
   ]
  },
  {
   "cell_type": "code",
   "execution_count": 73,
   "id": "31e2bb2f",
   "metadata": {},
   "outputs": [
    {
     "data": {
      "text/plain": [
       "[(0, 1),\n",
       " (1, 2),\n",
       " (2, 3),\n",
       " (3, 4),\n",
       " (4, 5),\n",
       " (5, 6),\n",
       " (6, 7),\n",
       " (7, 8),\n",
       " (8, 9),\n",
       " (9, 10)]"
      ]
     },
     "execution_count": 73,
     "metadata": {},
     "output_type": "execute_result"
    }
   ],
   "source": [
    "list(enumerate(a))"
   ]
  },
  {
   "cell_type": "code",
   "execution_count": 74,
   "id": "45cea744",
   "metadata": {},
   "outputs": [
    {
     "data": {
      "text/plain": [
       "array([3, 4, 5, 6])"
      ]
     },
     "execution_count": 74,
     "metadata": {},
     "output_type": "execute_result"
    }
   ],
   "source": [
    "a[2:6]"
   ]
  },
  {
   "cell_type": "code",
   "execution_count": 75,
   "id": "3a1620a4",
   "metadata": {},
   "outputs": [
    {
     "data": {
      "text/plain": [
       "array([ 1,  2,  3,  4,  5,  6,  7,  8,  9, 10])"
      ]
     },
     "execution_count": 75,
     "metadata": {},
     "output_type": "execute_result"
    }
   ],
   "source": [
    "a[:]"
   ]
  },
  {
   "cell_type": "code",
   "execution_count": 76,
   "id": "3c54e3aa",
   "metadata": {},
   "outputs": [
    {
     "data": {
      "text/plain": [
       "array([1, 2, 3, 4, 5])"
      ]
     },
     "execution_count": 76,
     "metadata": {},
     "output_type": "execute_result"
    }
   ],
   "source": [
    "a[:5]"
   ]
  },
  {
   "cell_type": "code",
   "execution_count": 77,
   "id": "cb9db666",
   "metadata": {},
   "outputs": [
    {
     "data": {
      "text/plain": [
       "array([1, 3, 5, 7, 9])"
      ]
     },
     "execution_count": 77,
     "metadata": {},
     "output_type": "execute_result"
    }
   ],
   "source": [
    "a[::2]"
   ]
  },
  {
   "cell_type": "code",
   "execution_count": 78,
   "id": "20f4fdd4",
   "metadata": {},
   "outputs": [
    {
     "data": {
      "text/plain": [
       "array([ 1,  4,  7, 10])"
      ]
     },
     "execution_count": 78,
     "metadata": {},
     "output_type": "execute_result"
    }
   ],
   "source": [
    "a[::3]"
   ]
  },
  {
   "cell_type": "code",
   "execution_count": 80,
   "id": "826af973",
   "metadata": {},
   "outputs": [
    {
     "data": {
      "text/plain": [
       "array([100,   2,   3,   4,   5,   6,   7,   8,   9,  10])"
      ]
     },
     "execution_count": 80,
     "metadata": {},
     "output_type": "execute_result"
    }
   ],
   "source": [
    "a[0] = 100 #assignment using index value\n",
    "a"
   ]
  },
  {
   "cell_type": "code",
   "execution_count": 82,
   "id": "caceee41",
   "metadata": {},
   "outputs": [
    {
     "data": {
      "text/plain": [
       "array([100,   2,  50,  50,  50,   6,   7,   8,   9,  10])"
      ]
     },
     "execution_count": 82,
     "metadata": {},
     "output_type": "execute_result"
    }
   ],
   "source": [
    "a[2:5] = 50 #broadcasting\n",
    "a"
   ]
  },
  {
   "cell_type": "code",
   "execution_count": 86,
   "id": "1e6a726c",
   "metadata": {},
   "outputs": [
    {
     "data": {
      "text/plain": [
       "array([100,   2,  34,  56,  78,   6,   7,   8,   9,  10])"
      ]
     },
     "execution_count": 86,
     "metadata": {},
     "output_type": "execute_result"
    }
   ],
   "source": [
    "a[2:5] = [34,56,78] #this is also possible\n",
    "a"
   ]
  },
  {
   "cell_type": "code",
   "execution_count": 87,
   "id": "ed3f28d4",
   "metadata": {},
   "outputs": [
    {
     "data": {
      "text/plain": [
       "array([ 1,  2,  3,  4,  5,  6,  7,  8,  9, 10])"
      ]
     },
     "execution_count": 87,
     "metadata": {},
     "output_type": "execute_result"
    }
   ],
   "source": [
    "a = np.arange(1,11)\n",
    "a"
   ]
  },
  {
   "cell_type": "code",
   "execution_count": 89,
   "id": "660127ed",
   "metadata": {},
   "outputs": [
    {
     "data": {
      "text/plain": [
       "array([3, 4, 5, 6, 7, 8])"
      ]
     },
     "execution_count": 89,
     "metadata": {},
     "output_type": "execute_result"
    }
   ],
   "source": [
    "b = a[2:8] #slicing a and assigning it to b\n",
    "b"
   ]
  },
  {
   "cell_type": "code",
   "execution_count": 92,
   "id": "fd871c1a",
   "metadata": {},
   "outputs": [
    {
     "data": {
      "text/plain": [
       "array([100,   4,   5,   6,   7,   8])"
      ]
     },
     "execution_count": 92,
     "metadata": {},
     "output_type": "execute_result"
    }
   ],
   "source": [
    "b[0] = 100 #changing value in b reflects in a as well\n",
    "b"
   ]
  },
  {
   "cell_type": "code",
   "execution_count": 94,
   "id": "2063c343",
   "metadata": {},
   "outputs": [
    {
     "data": {
      "text/plain": [
       "array([  1,   2, 100,   4,   5,   6,   7,   8,   9,  10])"
      ]
     },
     "execution_count": 94,
     "metadata": {},
     "output_type": "execute_result"
    }
   ],
   "source": [
    "a  #respective element is changed in a as well (referecncing)"
   ]
  },
  {
   "cell_type": "markdown",
   "id": "2ba8af05",
   "metadata": {},
   "source": [
    "### making another array from sliced array references to the original while in lists it ref. to a copy"
   ]
  },
  {
   "cell_type": "markdown",
   "id": "0e701d7c",
   "metadata": {},
   "source": [
    "----------------------------------------------------------"
   ]
  },
  {
   "cell_type": "markdown",
   "id": "524db686",
   "metadata": {},
   "source": [
    "## 1.4 numpy array (shape and multiple dimensions"
   ]
  },
  {
   "cell_type": "code",
   "execution_count": 1,
   "id": "99e95ffa",
   "metadata": {},
   "outputs": [],
   "source": [
    "import numpy as np"
   ]
  },
  {
   "cell_type": "code",
   "execution_count": 2,
   "id": "ab220645",
   "metadata": {},
   "outputs": [],
   "source": [
    "a = np.arange(1,13)"
   ]
  },
  {
   "cell_type": "code",
   "execution_count": 3,
   "id": "7b47c47c",
   "metadata": {},
   "outputs": [
    {
     "data": {
      "text/plain": [
       "array([ 1,  2,  3,  4,  5,  6,  7,  8,  9, 10, 11, 12])"
      ]
     },
     "execution_count": 3,
     "metadata": {},
     "output_type": "execute_result"
    }
   ],
   "source": [
    "a"
   ]
  },
  {
   "cell_type": "code",
   "execution_count": 4,
   "id": "b7c064f3",
   "metadata": {},
   "outputs": [
    {
     "data": {
      "text/plain": [
       "numpy.ndarray"
      ]
     },
     "execution_count": 4,
     "metadata": {},
     "output_type": "execute_result"
    }
   ],
   "source": [
    "type(a)"
   ]
  },
  {
   "cell_type": "code",
   "execution_count": 5,
   "id": "5fa8c63d",
   "metadata": {},
   "outputs": [
    {
     "data": {
      "text/plain": [
       "(12,)"
      ]
     },
     "execution_count": 5,
     "metadata": {},
     "output_type": "execute_result"
    }
   ],
   "source": [
    "a.shape   #1-D array, 12 elements in one dimension (vector)"
   ]
  },
  {
   "cell_type": "code",
   "execution_count": 8,
   "id": "ed1f1556",
   "metadata": {},
   "outputs": [],
   "source": [
    "a = a.reshape(2,6)  #reshaping a, 2 rows and 6 columns"
   ]
  },
  {
   "cell_type": "code",
   "execution_count": 9,
   "id": "20667035",
   "metadata": {},
   "outputs": [
    {
     "data": {
      "text/plain": [
       "array([[ 1,  2,  3,  4,  5,  6],\n",
       "       [ 7,  8,  9, 10, 11, 12]])"
      ]
     },
     "execution_count": 9,
     "metadata": {},
     "output_type": "execute_result"
    }
   ],
   "source": [
    "a  "
   ]
  },
  {
   "cell_type": "code",
   "execution_count": 10,
   "id": "6b12f410",
   "metadata": {},
   "outputs": [
    {
     "data": {
      "text/plain": [
       "(2, 6)"
      ]
     },
     "execution_count": 10,
     "metadata": {},
     "output_type": "execute_result"
    }
   ],
   "source": [
    "a.shape"
   ]
  },
  {
   "cell_type": "code",
   "execution_count": 15,
   "id": "00cea33d",
   "metadata": {},
   "outputs": [
    {
     "data": {
      "text/plain": [
       "array([[ 1,  2],\n",
       "       [ 3,  4],\n",
       "       [ 5,  6],\n",
       "       [ 7,  8],\n",
       "       [ 9, 10],\n",
       "       [11, 12]])"
      ]
     },
     "execution_count": 15,
     "metadata": {},
     "output_type": "execute_result"
    }
   ],
   "source": [
    "a = a.reshape(6,2) #reshaping to 6 rows and 2 columns\n",
    "a"
   ]
  },
  {
   "cell_type": "code",
   "execution_count": 16,
   "id": "1403dc9f",
   "metadata": {},
   "outputs": [
    {
     "data": {
      "text/plain": [
       "(6, 2)"
      ]
     },
     "execution_count": 16,
     "metadata": {},
     "output_type": "execute_result"
    }
   ],
   "source": [
    "a.shape"
   ]
  },
  {
   "cell_type": "code",
   "execution_count": 19,
   "id": "7d807207",
   "metadata": {},
   "outputs": [
    {
     "data": {
      "text/plain": [
       "array([[101, 102],\n",
       "       [103, 104],\n",
       "       [105, 106],\n",
       "       [107, 108],\n",
       "       [109, 110],\n",
       "       [111, 112]])"
      ]
     },
     "execution_count": 19,
     "metadata": {},
     "output_type": "execute_result"
    }
   ],
   "source": [
    "a+100  #elemnent wise op still works"
   ]
  },
  {
   "cell_type": "code",
   "execution_count": 18,
   "id": "69b3df58",
   "metadata": {},
   "outputs": [
    {
     "data": {
      "text/plain": [
       "array([[ 1,  2],\n",
       "       [ 3,  4],\n",
       "       [ 5,  6],\n",
       "       [ 7,  8],\n",
       "       [ 9, 10],\n",
       "       [11, 12]])"
      ]
     },
     "execution_count": 18,
     "metadata": {},
     "output_type": "execute_result"
    }
   ],
   "source": [
    "a"
   ]
  },
  {
   "cell_type": "code",
   "execution_count": 20,
   "id": "2b8f20fc",
   "metadata": {},
   "outputs": [
    {
     "ename": "ValueError",
     "evalue": "cannot reshape array of size 12 into shape (3,5)",
     "output_type": "error",
     "traceback": [
      "\u001b[1;31m---------------------------------------------------------------------------\u001b[0m",
      "\u001b[1;31mValueError\u001b[0m                                Traceback (most recent call last)",
      "\u001b[1;32m<ipython-input-20-9a83e5a5190c>\u001b[0m in \u001b[0;36m<module>\u001b[1;34m\u001b[0m\n\u001b[1;32m----> 1\u001b[1;33m \u001b[0ma\u001b[0m\u001b[1;33m.\u001b[0m\u001b[0mreshape\u001b[0m\u001b[1;33m(\u001b[0m\u001b[1;36m3\u001b[0m\u001b[1;33m,\u001b[0m\u001b[1;36m5\u001b[0m\u001b[1;33m)\u001b[0m \u001b[1;31m#wont work as it has only 12 elemets\u001b[0m\u001b[1;33m\u001b[0m\u001b[1;33m\u001b[0m\u001b[0m\n\u001b[0m",
      "\u001b[1;31mValueError\u001b[0m: cannot reshape array of size 12 into shape (3,5)"
     ]
    }
   ],
   "source": [
    "a.reshape(3,5) #wont work as it has only 12 elements"
   ]
  },
  {
   "cell_type": "code",
   "execution_count": 23,
   "id": "327de444",
   "metadata": {},
   "outputs": [
    {
     "data": {
      "text/plain": [
       "array([[[ 1,  2,  3],\n",
       "        [ 4,  5,  6]],\n",
       "\n",
       "       [[ 7,  8,  9],\n",
       "        [10, 11, 12]]])"
      ]
     },
     "execution_count": 23,
     "metadata": {},
     "output_type": "execute_result"
    }
   ],
   "source": [
    "a= a.reshape(2,2,3)  #creating a 3-D array\n",
    "a"
   ]
  },
  {
   "cell_type": "code",
   "execution_count": 24,
   "id": "5c022a80",
   "metadata": {},
   "outputs": [
    {
     "data": {
      "text/plain": [
       "(2, 2, 3)"
      ]
     },
     "execution_count": 24,
     "metadata": {},
     "output_type": "execute_result"
    }
   ],
   "source": [
    "a.shape"
   ]
  },
  {
   "cell_type": "code",
   "execution_count": 26,
   "id": "ba6f0378",
   "metadata": {},
   "outputs": [
    {
     "data": {
      "text/plain": [
       "array([[  1,   2,   3,   4],\n",
       "       [  5,   6,   7,   8],\n",
       "       [  9,  10,  11,  12],\n",
       "       [ 13,  14,  15,  16],\n",
       "       [ 17,  18,  19,  20],\n",
       "       [ 21,  22,  23,  24],\n",
       "       [ 25,  26,  27,  28],\n",
       "       [ 29,  30,  31,  32],\n",
       "       [ 33,  34,  35,  36],\n",
       "       [ 37,  38,  39,  40],\n",
       "       [ 41,  42,  43,  44],\n",
       "       [ 45,  46,  47,  48],\n",
       "       [ 49,  50,  51,  52],\n",
       "       [ 53,  54,  55,  56],\n",
       "       [ 57,  58,  59,  60],\n",
       "       [ 61,  62,  63,  64],\n",
       "       [ 65,  66,  67,  68],\n",
       "       [ 69,  70,  71,  72],\n",
       "       [ 73,  74,  75,  76],\n",
       "       [ 77,  78,  79,  80],\n",
       "       [ 81,  82,  83,  84],\n",
       "       [ 85,  86,  87,  88],\n",
       "       [ 89,  90,  91,  92],\n",
       "       [ 93,  94,  95,  96],\n",
       "       [ 97,  98,  99, 100]])"
      ]
     },
     "execution_count": 26,
     "metadata": {},
     "output_type": "execute_result"
    }
   ],
   "source": [
    "b = np.arange(1,101).reshape(25,4)  # create 2-D array with one line of code\n",
    "b"
   ]
  },
  {
   "cell_type": "markdown",
   "id": "ad45d6a2",
   "metadata": {},
   "source": [
    "## 1.5 numpy arrays ( slicing and indexing of M-D arrays)"
   ]
  },
  {
   "cell_type": "code",
   "execution_count": 27,
   "id": "d0defd0e",
   "metadata": {},
   "outputs": [],
   "source": [
    "import numpy as np"
   ]
  },
  {
   "cell_type": "code",
   "execution_count": 62,
   "id": "5b46f462",
   "metadata": {},
   "outputs": [
    {
     "name": "stdout",
     "output_type": "stream",
     "text": [
      "[ 1  2  3  4  5  6  7  8  9 10 11 12]\n"
     ]
    }
   ],
   "source": [
    "a = np.arange(1,13)\n",
    "print(a)"
   ]
  },
  {
   "cell_type": "code",
   "execution_count": 63,
   "id": "91f7a7a0",
   "metadata": {},
   "outputs": [
    {
     "data": {
      "text/plain": [
       "array([[ 1,  2,  3,  4],\n",
       "       [ 5,  6,  7,  8],\n",
       "       [ 9, 10, 11, 12]])"
      ]
     },
     "execution_count": 63,
     "metadata": {},
     "output_type": "execute_result"
    }
   ],
   "source": [
    "a = a.reshape(3,4)  #( order= \"F\" ) is for changing order in 2-D array\n",
    "a"
   ]
  },
  {
   "cell_type": "code",
   "execution_count": 64,
   "id": "20901b53",
   "metadata": {},
   "outputs": [
    {
     "data": {
      "text/plain": [
       "array([1, 2, 3, 4])"
      ]
     },
     "execution_count": 64,
     "metadata": {},
     "output_type": "execute_result"
    }
   ],
   "source": [
    "a[0]  #first row"
   ]
  },
  {
   "cell_type": "code",
   "execution_count": 65,
   "id": "12883d25",
   "metadata": {},
   "outputs": [
    {
     "data": {
      "text/plain": [
       "array([ 9, 10, 11, 12])"
      ]
     },
     "execution_count": 65,
     "metadata": {},
     "output_type": "execute_result"
    }
   ],
   "source": [
    "a[-1]"
   ]
  },
  {
   "cell_type": "code",
   "execution_count": 66,
   "id": "af1a56c6",
   "metadata": {},
   "outputs": [
    {
     "data": {
      "text/plain": [
       "1"
      ]
     },
     "execution_count": 66,
     "metadata": {},
     "output_type": "execute_result"
    }
   ],
   "source": [
    "a[0][0] #can also be used as a[0,0]"
   ]
  },
  {
   "cell_type": "code",
   "execution_count": 67,
   "id": "927ee801",
   "metadata": {},
   "outputs": [
    {
     "data": {
      "text/plain": [
       "1"
      ]
     },
     "execution_count": 67,
     "metadata": {},
     "output_type": "execute_result"
    }
   ],
   "source": [
    "a[0,0]"
   ]
  },
  {
   "cell_type": "code",
   "execution_count": 69,
   "id": "b2965118",
   "metadata": {},
   "outputs": [
    {
     "data": {
      "text/plain": [
       "array([1, 5, 9])"
      ]
     },
     "execution_count": 69,
     "metadata": {},
     "output_type": "execute_result"
    }
   ],
   "source": [
    "a[:,0] #all rows, first column"
   ]
  },
  {
   "cell_type": "code",
   "execution_count": 48,
   "id": "158f2bb9",
   "metadata": {},
   "outputs": [
    {
     "name": "stdout",
     "output_type": "stream",
     "text": [
      "[[2 3]\n",
      " [6 7]]\n"
     ]
    }
   ],
   "source": [
    "print(a[:2, 1:3]) #first 2 rows, column 1 and 3"
   ]
  },
  {
   "cell_type": "code",
   "execution_count": 70,
   "id": "8c5f3fd1",
   "metadata": {},
   "outputs": [
    {
     "data": {
      "text/plain": [
       "array([[ 1,  2,  3,  4],\n",
       "       [ 5,  6,  7,  8],\n",
       "       [ 9, 10, 11, 12]])"
      ]
     },
     "execution_count": 70,
     "metadata": {},
     "output_type": "execute_result"
    }
   ],
   "source": [
    "a"
   ]
  },
  {
   "cell_type": "code",
   "execution_count": 72,
   "id": "fc3cdc0b",
   "metadata": {},
   "outputs": [
    {
     "data": {
      "text/plain": [
       "array([ 4,  8, 12])"
      ]
     },
     "execution_count": 72,
     "metadata": {},
     "output_type": "execute_result"
    }
   ],
   "source": [
    "a[:,-1]"
   ]
  },
  {
   "cell_type": "code",
   "execution_count": 50,
   "id": "1c804c76",
   "metadata": {},
   "outputs": [
    {
     "data": {
      "text/plain": [
       "array([[ 1,  5,  9],\n",
       "       [ 2,  6, 10],\n",
       "       [ 3,  7, 11],\n",
       "       [ 4,  8, 12]])"
      ]
     },
     "execution_count": 50,
     "metadata": {},
     "output_type": "execute_result"
    }
   ],
   "source": [
    "a.T  #transpose"
   ]
  },
  {
   "cell_type": "code",
   "execution_count": 55,
   "id": "8934d765",
   "metadata": {},
   "outputs": [
    {
     "data": {
      "text/plain": [
       "array([[ 0,  1,  9],\n",
       "       [ 0,  1, 10],\n",
       "       [ 0,  1, 11],\n",
       "       [ 1,  2, 12]])"
      ]
     },
     "execution_count": 55,
     "metadata": {},
     "output_type": "execute_result"
    }
   ],
   "source": [
    "a.transpose() #same"
   ]
  },
  {
   "cell_type": "code",
   "execution_count": 75,
   "id": "ffd2fa69",
   "metadata": {},
   "outputs": [],
   "source": [
    "a[:,-1] = a[:,-1]/4 #changing slice inplace"
   ]
  },
  {
   "cell_type": "code",
   "execution_count": 74,
   "id": "fdc88fff",
   "metadata": {},
   "outputs": [
    {
     "data": {
      "text/plain": [
       "array([[ 1,  2,  3,  1],\n",
       "       [ 5,  6,  7,  2],\n",
       "       [ 9, 10, 11,  3]])"
      ]
     },
     "execution_count": 74,
     "metadata": {},
     "output_type": "execute_result"
    }
   ],
   "source": [
    "a"
   ]
  },
  {
   "cell_type": "code",
   "execution_count": 76,
   "id": "11797d55",
   "metadata": {},
   "outputs": [],
   "source": [
    "a = np.arange(1,13).reshape(3,4)"
   ]
  },
  {
   "cell_type": "code",
   "execution_count": 77,
   "id": "90b1ef37",
   "metadata": {},
   "outputs": [
    {
     "data": {
      "text/plain": [
       "array([[ 1,  2,  3,  4],\n",
       "       [ 5,  6,  7,  8],\n",
       "       [ 9, 10, 11, 12]])"
      ]
     },
     "execution_count": 77,
     "metadata": {},
     "output_type": "execute_result"
    }
   ],
   "source": [
    "a"
   ]
  },
  {
   "cell_type": "code",
   "execution_count": 78,
   "id": "fcc66cc9",
   "metadata": {},
   "outputs": [
    {
     "data": {
      "text/plain": [
       "78"
      ]
     },
     "execution_count": 78,
     "metadata": {},
     "output_type": "execute_result"
    }
   ],
   "source": [
    "a.sum() #sum of all elements"
   ]
  },
  {
   "cell_type": "code",
   "execution_count": 80,
   "id": "307a9707",
   "metadata": {},
   "outputs": [
    {
     "data": {
      "text/plain": [
       "array([15, 18, 21, 24])"
      ]
     },
     "execution_count": 80,
     "metadata": {},
     "output_type": "execute_result"
    }
   ],
   "source": [
    "sum(a) #sums all columns"
   ]
  },
  {
   "cell_type": "code",
   "execution_count": 81,
   "id": "83f26a2f",
   "metadata": {},
   "outputs": [
    {
     "data": {
      "text/plain": [
       "array([15, 18, 21, 24])"
      ]
     },
     "execution_count": 81,
     "metadata": {},
     "output_type": "execute_result"
    }
   ],
   "source": [
    "a.sum(axis = 0) #sum of each column"
   ]
  },
  {
   "cell_type": "code",
   "execution_count": 82,
   "id": "1990e522",
   "metadata": {},
   "outputs": [
    {
     "data": {
      "text/plain": [
       "array([10, 26, 42])"
      ]
     },
     "execution_count": 82,
     "metadata": {},
     "output_type": "execute_result"
    }
   ],
   "source": [
    "a.sum(axis = 1) #sum of each row"
   ]
  },
  {
   "cell_type": "code",
   "execution_count": 84,
   "id": "790c7981",
   "metadata": {},
   "outputs": [
    {
     "data": {
      "text/plain": [
       "array([ 1,  3,  6, 10, 15, 21, 28, 36, 45, 55, 66, 78], dtype=int32)"
      ]
     },
     "execution_count": 84,
     "metadata": {},
     "output_type": "execute_result"
    }
   ],
   "source": [
    "a.cumsum() #cumulative sum of each element"
   ]
  },
  {
   "cell_type": "code",
   "execution_count": 85,
   "id": "fdf8e602",
   "metadata": {},
   "outputs": [
    {
     "data": {
      "text/plain": [
       "array([[ 1,  2,  3,  4],\n",
       "       [ 6,  8, 10, 12],\n",
       "       [15, 18, 21, 24]], dtype=int32)"
      ]
     },
     "execution_count": 85,
     "metadata": {},
     "output_type": "execute_result"
    }
   ],
   "source": [
    "a.cumsum(axis = 0) #cumsum of each column"
   ]
  },
  {
   "cell_type": "code",
   "execution_count": 86,
   "id": "695d29ea",
   "metadata": {},
   "outputs": [
    {
     "data": {
      "text/plain": [
       "array([[ 1,  3,  6, 10],\n",
       "       [ 5, 11, 18, 26],\n",
       "       [ 9, 19, 30, 42]], dtype=int32)"
      ]
     },
     "execution_count": 86,
     "metadata": {},
     "output_type": "execute_result"
    }
   ],
   "source": [
    "a.cumsum(axis = 1) #cumsum of each row"
   ]
  },
  {
   "cell_type": "code",
   "execution_count": 87,
   "id": "9edc0b29",
   "metadata": {},
   "outputs": [
    {
     "data": {
      "text/plain": [
       "array([[ 1,  2,  3,  4],\n",
       "       [ 5,  6,  7,  8],\n",
       "       [ 9, 10, 11, 12]])"
      ]
     },
     "execution_count": 87,
     "metadata": {},
     "output_type": "execute_result"
    }
   ],
   "source": [
    "a"
   ]
  },
  {
   "cell_type": "code",
   "execution_count": 89,
   "id": "52f07d2b",
   "metadata": {},
   "outputs": [
    {
     "data": {
      "text/plain": [
       "479001600"
      ]
     },
     "execution_count": 89,
     "metadata": {},
     "output_type": "execute_result"
    }
   ],
   "source": [
    "a.prod() #product of all elemnets"
   ]
  },
  {
   "cell_type": "code",
   "execution_count": 91,
   "id": "0b60e707",
   "metadata": {},
   "outputs": [
    {
     "data": {
      "text/plain": [
       "array([ 45, 120, 231, 384])"
      ]
     },
     "execution_count": 91,
     "metadata": {},
     "output_type": "execute_result"
    }
   ],
   "source": [
    "a.prod( axis = 0) #p of all col elements"
   ]
  },
  {
   "cell_type": "code",
   "execution_count": 92,
   "id": "2bb6db85",
   "metadata": {},
   "outputs": [
    {
     "data": {
      "text/plain": [
       "array([   24,  1680, 11880])"
      ]
     },
     "execution_count": 92,
     "metadata": {},
     "output_type": "execute_result"
    }
   ],
   "source": [
    "a.prod(axis = 1) #prod of all row elements"
   ]
  },
  {
   "cell_type": "markdown",
   "id": "36ac1840",
   "metadata": {},
   "source": [
    "## 1.6 boolean indexing"
   ]
  },
  {
   "cell_type": "code",
   "execution_count": 93,
   "id": "1c912068",
   "metadata": {},
   "outputs": [],
   "source": [
    "import numpy as np"
   ]
  },
  {
   "cell_type": "code",
   "execution_count": 96,
   "id": "348ddc37",
   "metadata": {},
   "outputs": [],
   "source": [
    "a = np.arange(1,11) #make an ndarray of 10 elements"
   ]
  },
  {
   "cell_type": "code",
   "execution_count": 97,
   "id": "4187c6f6",
   "metadata": {},
   "outputs": [
    {
     "data": {
      "text/plain": [
       "array([ 1,  2,  3,  4,  5,  6,  7,  8,  9, 10])"
      ]
     },
     "execution_count": 97,
     "metadata": {},
     "output_type": "execute_result"
    }
   ],
   "source": [
    "a"
   ]
  },
  {
   "cell_type": "code",
   "execution_count": 98,
   "id": "aa106d68",
   "metadata": {},
   "outputs": [
    {
     "data": {
      "text/plain": [
       "array([False, False, False, False, False,  True,  True,  True,  True,\n",
       "        True])"
      ]
     },
     "execution_count": 98,
     "metadata": {},
     "output_type": "execute_result"
    }
   ],
   "source": [
    "mask1 = a > 5 #checking element wise if each element is > 5\n",
    "mask1"
   ]
  },
  {
   "cell_type": "code",
   "execution_count": 99,
   "id": "3d2a7d4b",
   "metadata": {},
   "outputs": [
    {
     "data": {
      "text/plain": [
       "array([ True,  True,  True,  True,  True,  True,  True, False, False,\n",
       "       False])"
      ]
     },
     "execution_count": 99,
     "metadata": {},
     "output_type": "execute_result"
    }
   ],
   "source": [
    "mask2 = a < 8\n",
    "mask2"
   ]
  },
  {
   "cell_type": "code",
   "execution_count": 102,
   "id": "54733c03",
   "metadata": {},
   "outputs": [
    {
     "data": {
      "text/plain": [
       "array([False, False, False, False, False,  True,  True, False, False,\n",
       "       False])"
      ]
     },
     "execution_count": 102,
     "metadata": {},
     "output_type": "execute_result"
    }
   ],
   "source": [
    "mask3 = (a > 5) & (a < 8)\n",
    "mask3"
   ]
  },
  {
   "cell_type": "code",
   "execution_count": 103,
   "id": "c5baab26",
   "metadata": {},
   "outputs": [
    {
     "data": {
      "text/plain": [
       "array([ 6,  7,  8,  9, 10])"
      ]
     },
     "execution_count": 103,
     "metadata": {},
     "output_type": "execute_result"
    }
   ],
   "source": [
    "a[a>5] #slicing a where element is > 5"
   ]
  },
  {
   "cell_type": "code",
   "execution_count": 104,
   "id": "4b4c231c",
   "metadata": {},
   "outputs": [
    {
     "data": {
      "text/plain": [
       "array([ 6,  7,  8,  9, 10])"
      ]
     },
     "execution_count": 104,
     "metadata": {},
     "output_type": "execute_result"
    }
   ],
   "source": [
    "a[mask1] #slice a where element fulfils conditions of mask1"
   ]
  },
  {
   "cell_type": "markdown",
   "id": "bb791fe4",
   "metadata": {},
   "source": [
    "## 1.7 Random numbers"
   ]
  },
  {
   "cell_type": "code",
   "execution_count": 2,
   "id": "213be7e7",
   "metadata": {},
   "outputs": [],
   "source": [
    "import numpy as np"
   ]
  },
  {
   "cell_type": "code",
   "execution_count": 3,
   "id": "31bcf3c9",
   "metadata": {},
   "outputs": [],
   "source": [
    "a = np.random.randint(1,101,10) # 10 random no.s b/w 1 and 100(incl.)"
   ]
  },
  {
   "cell_type": "code",
   "execution_count": 4,
   "id": "de87680a",
   "metadata": {},
   "outputs": [
    {
     "data": {
      "text/plain": [
       "array([ 62, 100,  41,  27,  48,  68,  37,  30,  52,  19])"
      ]
     },
     "execution_count": 4,
     "metadata": {},
     "output_type": "execute_result"
    }
   ],
   "source": [
    "a"
   ]
  },
  {
   "cell_type": "code",
   "execution_count": 6,
   "id": "01fa7c45",
   "metadata": {},
   "outputs": [
    {
     "data": {
      "text/plain": [
       "array([67, 93, 99, 18, 84, 58, 87, 98, 97, 48])"
      ]
     },
     "execution_count": 6,
     "metadata": {},
     "output_type": "execute_result"
    }
   ],
   "source": [
    "np.random.seed(123) #setting a seed\n",
    "a = np.random.randint(1,101,10)\n",
    "a"
   ]
  },
  {
   "cell_type": "code",
   "execution_count": 28,
   "id": "5607e810",
   "metadata": {},
   "outputs": [],
   "source": [
    "b = np.random.normal(5,2,100)  #creating 100 normal distributed numbers with mean 5 and std dev 2"
   ]
  },
  {
   "cell_type": "code",
   "execution_count": 29,
   "id": "1b5a20a9",
   "metadata": {},
   "outputs": [],
   "source": [
    "import matplotlib.pyplot as plt\n",
    "%matplotlib inline"
   ]
  },
  {
   "cell_type": "code",
   "execution_count": 30,
   "id": "c46a819e",
   "metadata": {},
   "outputs": [
    {
     "data": {
      "text/plain": [
       "(array([ 1.,  5.,  7.,  9., 22., 25., 13.,  9.,  8.,  1.]),\n",
       " array([-0.31462941,  0.67592742,  1.66648425,  2.65704108,  3.64759791,\n",
       "         4.63815474,  5.62871157,  6.6192684 ,  7.60982523,  8.60038206,\n",
       "         9.5909389 ]),\n",
       " <BarContainer object of 10 artists>)"
      ]
     },
     "execution_count": 30,
     "metadata": {},
     "output_type": "execute_result"
    },
    {
     "data": {
      "image/png": "[encoded data removed]",
      "text/plain": [
       "<Figure size 432x288 with 1 Axes>"
      ]
     },
     "metadata": {
      "needs_background": "light"
     },
     "output_type": "display_data"
    }
   ],
   "source": [
    "plt.hist(b)"
   ]
  },
  {
   "cell_type": "code",
   "execution_count": 31,
   "id": "18a5143b",
   "metadata": {},
   "outputs": [
    {
     "data": {
      "text/plain": [
       "array([  1,   2,   3,   4,   5,   6,   7,   8,   9,  10,  11,  12,  13,\n",
       "        14,  15,  16,  17,  18,  19,  20,  21,  22,  23,  24,  25,  26,\n",
       "        27,  28,  29,  30,  31,  32,  33,  34,  35,  36,  37,  38,  39,\n",
       "        40,  41,  42,  43,  44,  45,  46,  47,  48,  49,  50,  51,  52,\n",
       "        53,  54,  55,  56,  57,  58,  59,  60,  61,  62,  63,  64,  65,\n",
       "        66,  67,  68,  69,  70,  71,  72,  73,  74,  75,  76,  77,  78,\n",
       "        79,  80,  81,  82,  83,  84,  85,  86,  87,  88,  89,  90,  91,\n",
       "        92,  93,  94,  95,  96,  97,  98,  99, 100])"
      ]
     },
     "execution_count": 31,
     "metadata": {},
     "output_type": "execute_result"
    }
   ],
   "source": [
    "b = np.arange(1,101)\n",
    "b"
   ]
  },
  {
   "cell_type": "code",
   "execution_count": 33,
   "id": "27e25c88",
   "metadata": {},
   "outputs": [
    {
     "data": {
      "text/plain": [
       "array([ 60,  20,  76,  63,  42,  32,  58,  17,  84,  90,  75,  91,  10,\n",
       "        83,  15,  77,   9,  53,  51,  16,  49,  46,  74,  27,  19,  12,\n",
       "         2,  82,  28,   1,  26,  66,  14,  87,  67,  55,   3,   4,  21,\n",
       "        97,  40,  52,  72,  37,  41,  23,  65,   6,  69,  35,  94,  29,\n",
       "        50,   5,  78,  56,  48,  70,  95,  18,  61,  62,  45,  38,  88,\n",
       "        85,  92,  44,  11,  34,  57,  54, 100,  33,  47,  81,  96,  89,\n",
       "        36,  31,  25,  13,  68,   8,  39,  93,  64,  59,  71,  73,  22,\n",
       "        79,  24,  80,   7,  30,  86,  99,  43,  98])"
      ]
     },
     "execution_count": 33,
     "metadata": {},
     "output_type": "execute_result"
    }
   ],
   "source": [
    "np.random.shuffle(b) #randomly shuffle ndarray b\n",
    "b"
   ]
  },
  {
   "cell_type": "code",
   "execution_count": 34,
   "id": "67d521e6",
   "metadata": {},
   "outputs": [
    {
     "data": {
      "text/plain": [
       "array([  1,   2,   3,   4,   5,   6,   7,   8,   9,  10,  11,  12,  13,\n",
       "        14,  15,  16,  17,  18,  19,  20,  21,  22,  23,  24,  25,  26,\n",
       "        27,  28,  29,  30,  31,  32,  33,  34,  35,  36,  37,  38,  39,\n",
       "        40,  41,  42,  43,  44,  45,  46,  47,  48,  49,  50,  51,  52,\n",
       "        53,  54,  55,  56,  57,  58,  59,  60,  61,  62,  63,  64,  65,\n",
       "        66,  67,  68,  69,  70,  71,  72,  73,  74,  75,  76,  77,  78,\n",
       "        79,  80,  81,  82,  83,  84,  85,  86,  87,  88,  89,  90,  91,\n",
       "        92,  93,  94,  95,  96,  97,  98,  99, 100])"
      ]
     },
     "execution_count": 34,
     "metadata": {},
     "output_type": "execute_result"
    }
   ],
   "source": [
    "b.sort() #sorting it again\n",
    "b"
   ]
  },
  {
   "cell_type": "code",
   "execution_count": 35,
   "id": "aa90e783",
   "metadata": {},
   "outputs": [
    {
     "data": {
      "text/plain": [
       "array([100,  99,  98,  97,  96,  95,  94,  93,  92,  91,  90,  89,  88,\n",
       "        87,  86,  85,  84,  83,  82,  81,  80,  79,  78,  77,  76,  75,\n",
       "        74,  73,  72,  71,  70,  69,  68,  67,  66,  65,  64,  63,  62,\n",
       "        61,  60,  59,  58,  57,  56,  55,  54,  53,  52,  51,  50,  49,\n",
       "        48,  47,  46,  45,  44,  43,  42,  41,  40,  39,  38,  37,  36,\n",
       "        35,  34,  33,  32,  31,  30,  29,  28,  27,  26,  25,  24,  23,\n",
       "        22,  21,  20,  19,  18,  17,  16,  15,  14,  13,  12,  11,  10,\n",
       "         9,   8,   7,   6,   5,   4,   3,   2,   1])"
      ]
     },
     "execution_count": 35,
     "metadata": {},
     "output_type": "execute_result"
    }
   ],
   "source": [
    "b[::-1] #sorting in reverse order"
   ]
  },
  {
   "cell_type": "code",
   "execution_count": 40,
   "id": "d79d1099",
   "metadata": {},
   "outputs": [
    {
     "data": {
      "text/plain": [
       "array([ 67,  93,  99,  18,  84,  58,  87,  98,  97,  48,  74,  33,  47,\n",
       "        97,  26,  84,  79,  37,  97,  81,  69,  50,  56,  68,   3,  85,\n",
       "        40,  67,  85,  48,  62,  49,   8, 100,  93,  53,  98,  86,  95,\n",
       "        28,  35,  98,  77,  41,   4,  70,  65,  76,  35,  59,  11,  23,\n",
       "        78,  19,  16,  28,  31,  53,  71,  27,  81,   7,  15,  76,  55,\n",
       "        72,   2,  44,  59,  56,  26,  51,  85,  57,  50,  13,  19,  82,\n",
       "         2,  52,  45,  49,  57,  92,  50,  87,   4,  68,  12,  22,  90,\n",
       "        99,   4,  12,   4,  95,   7,  10,  88,  15])"
      ]
     },
     "execution_count": 40,
     "metadata": {},
     "output_type": "execute_result"
    }
   ],
   "source": [
    "np.random.seed(123)\n",
    "b1 = np.random.choice(b, 100, replace = True)  #creating array with randomly chosen elements from b\n",
    "b1"
   ]
  },
  {
   "cell_type": "code",
   "execution_count": 43,
   "id": "5951a58e",
   "metadata": {},
   "outputs": [
    {
     "data": {
      "text/plain": [
       "array([  2,   2,   3,   4,   4,   4,   4,   7,   7,   8,  10,  11,  12,\n",
       "        12,  13,  15,  15,  16,  18,  19,  19,  22,  23,  26,  26,  27,\n",
       "        28,  28,  31,  33,  35,  35,  37,  40,  41,  44,  45,  47,  48,\n",
       "        48,  49,  49,  50,  50,  50,  51,  52,  53,  53,  55,  56,  56,\n",
       "        57,  57,  58,  59,  59,  62,  65,  67,  67,  68,  68,  69,  70,\n",
       "        71,  72,  74,  76,  76,  77,  78,  79,  81,  81,  82,  84,  84,\n",
       "        85,  85,  85,  86,  87,  87,  88,  90,  92,  93,  93,  95,  95,\n",
       "        97,  97,  97,  98,  98,  98,  99,  99, 100])"
      ]
     },
     "execution_count": 43,
     "metadata": {},
     "output_type": "execute_result"
    }
   ],
   "source": [
    "b1.sort()\n",
    "b1"
   ]
  },
  {
   "cell_type": "code",
   "execution_count": 46,
   "id": "f486042d",
   "metadata": {},
   "outputs": [
    {
     "data": {
      "text/plain": [
       "array([  2,   3,   4,   7,   8,  10,  11,  12,  13,  15,  16,  18,  19,\n",
       "        22,  23,  26,  27,  28,  31,  33,  35,  37,  40,  41,  44,  45,\n",
       "        47,  48,  49,  50,  51,  52,  53,  55,  56,  57,  58,  59,  62,\n",
       "        65,  67,  68,  69,  70,  71,  72,  74,  76,  77,  78,  79,  81,\n",
       "        82,  84,  85,  86,  87,  88,  90,  92,  93,  95,  97,  98,  99,\n",
       "       100])"
      ]
     },
     "execution_count": 46,
     "metadata": {},
     "output_type": "execute_result"
    }
   ],
   "source": [
    "np.unique(b1) #unique elements"
   ]
  },
  {
   "cell_type": "code",
   "execution_count": 47,
   "id": "f2ea2d9c",
   "metadata": {},
   "outputs": [
    {
     "data": {
      "text/plain": [
       "array([  2,   3,   4,   7,   8,  10,  11,  12,  13,  15,  16,  18,  19,\n",
       "        22,  23,  26,  27,  28,  31,  33,  35,  37,  40,  41,  44,  45,\n",
       "        47,  48,  49,  50,  51,  52,  53,  55,  56,  57,  58,  59,  62,\n",
       "        65,  67,  68,  69,  70,  71,  72,  74,  76,  77,  78,  79,  81,\n",
       "        82,  84,  85,  86,  87,  88,  90,  92,  93,  95,  97,  98,  99,\n",
       "       100])"
      ]
     },
     "execution_count": 47,
     "metadata": {},
     "output_type": "execute_result"
    }
   ],
   "source": [
    "np.array(list(set(b1))) #same as above"
   ]
  },
  {
   "cell_type": "code",
   "execution_count": 48,
   "id": "483fa473",
   "metadata": {},
   "outputs": [
    {
     "data": {
      "text/plain": [
       "66"
      ]
     },
     "execution_count": 48,
     "metadata": {},
     "output_type": "execute_result"
    }
   ],
   "source": [
    "np.unique(b1).size #how many unique elements?"
   ]
  },
  {
   "cell_type": "code",
   "execution_count": 49,
   "id": "b32aecaa",
   "metadata": {},
   "outputs": [
    {
     "data": {
      "text/plain": [
       "(array([  2,   3,   4,   7,   8,  10,  11,  12,  13,  15,  16,  18,  19,\n",
       "         22,  23,  26,  27,  28,  31,  33,  35,  37,  40,  41,  44,  45,\n",
       "         47,  48,  49,  50,  51,  52,  53,  55,  56,  57,  58,  59,  62,\n",
       "         65,  67,  68,  69,  70,  71,  72,  74,  76,  77,  78,  79,  81,\n",
       "         82,  84,  85,  86,  87,  88,  90,  92,  93,  95,  97,  98,  99,\n",
       "        100]),\n",
       " array([ 0,  2,  3,  7,  9, 10, 11, 12, 14, 15, 17, 18, 19, 21, 22, 23, 25,\n",
       "        26, 28, 29, 30, 32, 33, 34, 35, 36, 37, 38, 40, 42, 45, 46, 47, 49,\n",
       "        50, 52, 54, 55, 57, 58, 59, 61, 63, 64, 65, 66, 67, 68, 70, 71, 72,\n",
       "        73, 75, 76, 78, 81, 82, 84, 85, 86, 87, 89, 91, 94, 97, 99],\n",
       "       dtype=int64),\n",
       " array([2, 1, 4, 2, 1, 1, 1, 2, 1, 2, 1, 1, 2, 1, 1, 2, 1, 2, 1, 1, 2, 1,\n",
       "        1, 1, 1, 1, 1, 2, 2, 3, 1, 1, 2, 1, 2, 2, 1, 2, 1, 1, 2, 2, 1, 1,\n",
       "        1, 1, 1, 2, 1, 1, 1, 2, 1, 2, 3, 1, 2, 1, 1, 1, 2, 2, 3, 3, 2, 1],\n",
       "       dtype=int64))"
      ]
     },
     "execution_count": 49,
     "metadata": {},
     "output_type": "execute_result"
    }
   ],
   "source": [
    "np.unique(b1, return_index= True, return_counts= True)"
   ]
  },
  {
   "cell_type": "markdown",
   "id": "46731715",
   "metadata": {},
   "source": [
    "## 1.8 performance"
   ]
  },
  {
   "cell_type": "code",
   "execution_count": 50,
   "id": "e9d2caa1",
   "metadata": {},
   "outputs": [],
   "source": [
    "import numpy as np"
   ]
  },
  {
   "cell_type": "code",
   "execution_count": 70,
   "id": "25aab443",
   "metadata": {},
   "outputs": [],
   "source": [
    "size = 1000000"
   ]
  },
  {
   "cell_type": "code",
   "execution_count": 71,
   "id": "15e8ddcb",
   "metadata": {},
   "outputs": [
    {
     "data": {
      "text/plain": [
       "1000000"
      ]
     },
     "execution_count": 71,
     "metadata": {},
     "output_type": "execute_result"
    }
   ],
   "source": [
    "a = np.arange(size) #ndarray\n",
    "len(a)"
   ]
  },
  {
   "cell_type": "code",
   "execution_count": 72,
   "id": "a6b54b05",
   "metadata": {},
   "outputs": [
    {
     "data": {
      "text/plain": [
       "1000000"
      ]
     },
     "execution_count": 72,
     "metadata": {},
     "output_type": "execute_result"
    }
   ],
   "source": [
    "l = list(range(size)) #list\n",
    "len(l)"
   ]
  },
  {
   "cell_type": "code",
   "execution_count": 73,
   "id": "22d319ff",
   "metadata": {},
   "outputs": [
    {
     "name": "stdout",
     "output_type": "stream",
     "text": [
      "3.57 ms ± 248 µs per loop (mean ± std. dev. of 7 runs, 100 loops each)\n"
     ]
    }
   ],
   "source": [
    "%timeit a+2  #time req for element wise op on ndarray"
   ]
  },
  {
   "cell_type": "code",
   "execution_count": 76,
   "id": "a20f70bb",
   "metadata": {},
   "outputs": [
    {
     "name": "stdout",
     "output_type": "stream",
     "text": [
      "153 ms ± 2.62 ms per loop (mean ± std. dev. of 7 runs, 10 loops each)\n"
     ]
    }
   ],
   "source": [
    "%timeit [i+2 for i in l]"
   ]
  },
  {
   "cell_type": "markdown",
   "id": "27bd7b2d",
   "metadata": {},
   "source": [
    "### for small scale ops, numpy is actually slower than python standard library"
   ]
  },
  {
   "cell_type": "code",
   "execution_count": 77,
   "id": "64c0bf85",
   "metadata": {},
   "outputs": [
    {
     "name": "stdout",
     "output_type": "stream",
     "text": [
      "3.87 ms ± 247 µs per loop (mean ± std. dev. of 7 runs, 100 loops each)\n"
     ]
    }
   ],
   "source": [
    "%timeit a*2"
   ]
  },
  {
   "cell_type": "code",
   "execution_count": 78,
   "id": "ea50b2f4",
   "metadata": {},
   "outputs": [
    {
     "name": "stdout",
     "output_type": "stream",
     "text": [
      "179 ms ± 14.2 ms per loop (mean ± std. dev. of 7 runs, 1 loop each)\n"
     ]
    }
   ],
   "source": [
    "%timeit [i*2 for i in l]   #lot slower now as the dataset is bigger"
   ]
  },
  {
   "cell_type": "code",
   "execution_count": 79,
   "id": "b4029bd6",
   "metadata": {},
   "outputs": [
    {
     "name": "stdout",
     "output_type": "stream",
     "text": [
      "3.55 ms ± 440 µs per loop (mean ± std. dev. of 7 runs, 100 loops each)\n"
     ]
    }
   ],
   "source": [
    "%timeit a**2"
   ]
  },
  {
   "cell_type": "code",
   "execution_count": 80,
   "id": "665838e3",
   "metadata": {},
   "outputs": [
    {
     "name": "stdout",
     "output_type": "stream",
     "text": [
      "438 ms ± 35.4 ms per loop (mean ± std. dev. of 7 runs, 1 loop each)\n"
     ]
    }
   ],
   "source": [
    "%timeit [i**2 for i in l]  "
   ]
  },
  {
   "cell_type": "code",
   "execution_count": 81,
   "id": "d5b4c719",
   "metadata": {},
   "outputs": [
    {
     "name": "stdout",
     "output_type": "stream",
     "text": [
      "7.45 ms ± 331 µs per loop (mean ± std. dev. of 7 runs, 100 loops each)\n"
     ]
    }
   ],
   "source": [
    "%timeit np.sqrt(a)"
   ]
  },
  {
   "cell_type": "code",
   "execution_count": 82,
   "id": "3e2b2ff8",
   "metadata": {},
   "outputs": [
    {
     "name": "stdout",
     "output_type": "stream",
     "text": [
      "413 ms ± 36.1 ms per loop (mean ± std. dev. of 7 runs, 1 loop each)\n"
     ]
    }
   ],
   "source": [
    "%timeit [i**0.5 for i in l]  "
   ]
  },
  {
   "cell_type": "markdown",
   "id": "ff721079",
   "metadata": {},
   "source": [
    "## 1.9 Case study: Numpy vs. Python Standard Library"
   ]
  },
  {
   "cell_type": "code",
   "execution_count": 83,
   "id": "4ea40bcc",
   "metadata": {},
   "outputs": [],
   "source": [
    "import numpy as np"
   ]
  },
  {
   "cell_type": "code",
   "execution_count": 84,
   "id": "d8bd3ce8",
   "metadata": {},
   "outputs": [],
   "source": [
    "import random"
   ]
  },
  {
   "cell_type": "code",
   "execution_count": 103,
   "id": "cae5c081",
   "metadata": {},
   "outputs": [
    {
     "data": {
      "text/plain": [
       "10.0239"
      ]
     },
     "execution_count": 103,
     "metadata": {},
     "output_type": "execute_result"
    }
   ],
   "source": [
    "np.random.seed(122)\n",
    "(np.random.randint(1,11,10000*100).reshape(10000,100) == 1).sum(axis =1).mean() #axis= 1 is rows and 0 is columns"
   ]
  },
  {
   "cell_type": "code",
   "execution_count": 104,
   "id": "c0643b71",
   "metadata": {},
   "outputs": [
    {
     "name": "stdout",
     "output_type": "stream",
     "text": [
      "25.7 ms ± 1.46 ms per loop (mean ± std. dev. of 7 runs, 10 loops each)\n"
     ]
    }
   ],
   "source": [
    "%timeit (np.random.randint(1,11,10000*100).reshape(10000,100) == 1).sum(axis =1).mean()"
   ]
  },
  {
   "cell_type": "markdown",
   "id": "c5b766dc",
   "metadata": {},
   "source": [
    "### now we simulate the same with Python standard library"
   ]
  },
  {
   "cell_type": "code",
   "execution_count": 138,
   "id": "f2250c17",
   "metadata": {},
   "outputs": [],
   "source": [
    "def simulation():\n",
    "    results = []\n",
    "    for _ in range(10000):\n",
    "        l = []\n",
    "        for _ in range(100):\n",
    "            if random.randint(1,10) == 1:\n",
    "                l.append(True)\n",
    "            else:\n",
    "                l.append(False)\n",
    "        results.append(sum(l))\n",
    "    return (sum(results) / len(results))"
   ]
  },
  {
   "cell_type": "code",
   "execution_count": 139,
   "id": "82f7a34f",
   "metadata": {},
   "outputs": [
    {
     "data": {
      "text/plain": [
       "10.036"
      ]
     },
     "execution_count": 139,
     "metadata": {},
     "output_type": "execute_result"
    }
   ],
   "source": [
    "simulation()"
   ]
  },
  {
   "cell_type": "code",
   "execution_count": 116,
   "id": "2c372e70",
   "metadata": {},
   "outputs": [
    {
     "name": "stdout",
     "output_type": "stream",
     "text": [
      "2.1 s ± 114 ms per loop (mean ± std. dev. of 7 runs, 1 loop each)\n"
     ]
    }
   ],
   "source": [
    "%timeit simulation()  "
   ]
  },
  {
   "cell_type": "markdown",
   "id": "e552ec09",
   "metadata": {},
   "source": [
    "### same operation takes 2.1s in py stdlib while 25.7 ms in numpy, hence it's wayy better"
   ]
  },
  {
   "cell_type": "code",
   "execution_count": 161,
   "id": "8cdd5711",
   "metadata": {},
   "outputs": [],
   "source": [
    "def simulation2():  # my poor attempt at making a similar function, I got the wrong result (mean!=1) b/c I carried it...\n",
    "    results2 = []   #... out just 1 time with 1 Mil items instead of 100 items 10k times\n",
    "    for _ in range(1000000):\n",
    "        if random.randint(0,10) == 1:\n",
    "            results2.append(True)\n",
    "        else:\n",
    "            results2.append(False)\n",
    "    return(sum(results2) / len(results2))"
   ]
  },
  {
   "cell_type": "code",
   "execution_count": 160,
   "id": "84ebe8ed",
   "metadata": {},
   "outputs": [
    {
     "data": {
      "text/plain": [
       "0.090533"
      ]
     },
     "execution_count": 160,
     "metadata": {},
     "output_type": "execute_result"
    }
   ],
   "source": [
    "simulation2()"
   ]
  },
  {
   "cell_type": "markdown",
   "id": "496400bd",
   "metadata": {},
   "source": [
    "### Conclusion: Numpy is 81 times faster (on my system)"
   ]
  },
  {
   "cell_type": "markdown",
   "id": "35a6ab67",
   "metadata": {},
   "source": [
    "-------------------------------------------------------------------------------------------"
   ]
  },
  {
   "cell_type": "markdown",
   "id": "3623af3b",
   "metadata": {},
   "source": [
    "# 1.10 Summary Statistics"
   ]
  },
  {
   "cell_type": "code",
   "execution_count": 163,
   "id": "17bc9c89",
   "metadata": {},
   "outputs": [],
   "source": [
    "import numpy as np"
   ]
  },
  {
   "cell_type": "code",
   "execution_count": 165,
   "id": "ee81fede",
   "metadata": {},
   "outputs": [
    {
     "data": {
      "text/plain": [
       "array([67, 93, 99, 18, 84, 58, 87, 98, 97, 48, 74])"
      ]
     },
     "execution_count": 165,
     "metadata": {},
     "output_type": "execute_result"
    }
   ],
   "source": [
    "np.random.seed(123)\n",
    "a = np.random.randint(1,101,11) #creates 11 random elements b/w 1 and 100\n",
    "a"
   ]
  },
  {
   "cell_type": "code",
   "execution_count": 166,
   "id": "d06cb8bc",
   "metadata": {},
   "outputs": [
    {
     "data": {
      "text/plain": [
       "array([18, 48, 58, 67, 74, 84, 87, 93, 97, 98, 99])"
      ]
     },
     "execution_count": 166,
     "metadata": {},
     "output_type": "execute_result"
    }
   ],
   "source": [
    "a.sort()\n",
    "a"
   ]
  },
  {
   "cell_type": "code",
   "execution_count": 167,
   "id": "ce37c6e6",
   "metadata": {},
   "outputs": [
    {
     "data": {
      "text/plain": [
       "99"
      ]
     },
     "execution_count": 167,
     "metadata": {},
     "output_type": "execute_result"
    }
   ],
   "source": [
    "a.max() #maximum"
   ]
  },
  {
   "cell_type": "code",
   "execution_count": 168,
   "id": "078607ab",
   "metadata": {},
   "outputs": [
    {
     "data": {
      "text/plain": [
       "99"
      ]
     },
     "execution_count": 168,
     "metadata": {},
     "output_type": "execute_result"
    }
   ],
   "source": [
    "np.max(a) #same as above"
   ]
  },
  {
   "cell_type": "code",
   "execution_count": 169,
   "id": "c357bdd6",
   "metadata": {},
   "outputs": [
    {
     "data": {
      "text/plain": [
       "18"
      ]
     },
     "execution_count": 169,
     "metadata": {},
     "output_type": "execute_result"
    }
   ],
   "source": [
    "a.min() #min"
   ]
  },
  {
   "cell_type": "code",
   "execution_count": 170,
   "id": "eaec4974",
   "metadata": {},
   "outputs": [
    {
     "data": {
      "text/plain": [
       "74.81818181818181"
      ]
     },
     "execution_count": 170,
     "metadata": {},
     "output_type": "execute_result"
    }
   ],
   "source": [
    "np.mean(a) #mean"
   ]
  },
  {
   "cell_type": "code",
   "execution_count": 171,
   "id": "b832c003",
   "metadata": {},
   "outputs": [
    {
     "data": {
      "text/plain": [
       "74.81818181818181"
      ]
     },
     "execution_count": 171,
     "metadata": {},
     "output_type": "execute_result"
    }
   ],
   "source": [
    "np.mean(a) #same as above"
   ]
  },
  {
   "cell_type": "code",
   "execution_count": 173,
   "id": "a7fbeffa",
   "metadata": {},
   "outputs": [
    {
     "data": {
      "text/plain": [
       "84.0"
      ]
     },
     "execution_count": 173,
     "metadata": {},
     "output_type": "execute_result"
    }
   ],
   "source": [
    "np.median(a) #median"
   ]
  },
  {
   "cell_type": "code",
   "execution_count": 174,
   "id": "88a8a309",
   "metadata": {},
   "outputs": [
    {
     "data": {
      "text/plain": [
       "24.25177849829943"
      ]
     },
     "execution_count": 174,
     "metadata": {},
     "output_type": "execute_result"
    }
   ],
   "source": [
    "np.std(a) #standard deviation"
   ]
  },
  {
   "cell_type": "code",
   "execution_count": 175,
   "id": "992bc377",
   "metadata": {},
   "outputs": [
    {
     "data": {
      "text/plain": [
       "588.1487603305785"
      ]
     },
     "execution_count": 175,
     "metadata": {},
     "output_type": "execute_result"
    }
   ],
   "source": [
    "np.var(a) # variance"
   ]
  },
  {
   "cell_type": "code",
   "execution_count": 176,
   "id": "9967889e",
   "metadata": {},
   "outputs": [
    {
     "data": {
      "text/plain": [
       "48.0"
      ]
     },
     "execution_count": 176,
     "metadata": {},
     "output_type": "execute_result"
    }
   ],
   "source": [
    "np.percentile(a,10) #10th percentile (10% of all elements are lower than this element)"
   ]
  },
  {
   "cell_type": "code",
   "execution_count": 177,
   "id": "f3313cc6",
   "metadata": {},
   "outputs": [
    {
     "data": {
      "text/plain": [
       "98.0"
      ]
     },
     "execution_count": 177,
     "metadata": {},
     "output_type": "execute_result"
    }
   ],
   "source": [
    "np.percentile(a,90)"
   ]
  },
  {
   "cell_type": "code",
   "execution_count": 178,
   "id": "a112b5ae",
   "metadata": {},
   "outputs": [
    {
     "data": {
      "text/plain": [
       "array([67, 93, 99, 18, 84, 58, 87, 98, 97, 48, 74])"
      ]
     },
     "execution_count": 178,
     "metadata": {},
     "output_type": "execute_result"
    }
   ],
   "source": [
    "np.random.seed(123)\n",
    "a = np.random.randint(1,101,11) #creates 11 random elements b/w 1 and 100\n",
    "a"
   ]
  },
  {
   "cell_type": "code",
   "execution_count": 179,
   "id": "533f99e2",
   "metadata": {},
   "outputs": [
    {
     "data": {
      "text/plain": [
       "array([85, 85, 85, 87, 20, 42, 67, 83, 41, 72, 58])"
      ]
     },
     "execution_count": 179,
     "metadata": {},
     "output_type": "execute_result"
    }
   ],
   "source": [
    "np.random.seed(111) #different seed\n",
    "b = np.random.randint(1,101,11) #creates 11 random elements b/w 1 and 100\n",
    "b"
   ]
  },
  {
   "cell_type": "code",
   "execution_count": 180,
   "id": "6105d63e",
   "metadata": {},
   "outputs": [
    {
     "data": {
      "text/plain": [
       "array([[646.96363636, -85.81818182],\n",
       "       [-85.81818182, 523.09090909]])"
      ]
     },
     "execution_count": 180,
     "metadata": {},
     "output_type": "execute_result"
    }
   ],
   "source": [
    "np.cov(a,b) #covariance matrix"
   ]
  },
  {
   "cell_type": "code",
   "execution_count": 181,
   "id": "079fb5b2",
   "metadata": {},
   "outputs": [
    {
     "data": {
      "text/plain": [
       "array([[ 1.        , -0.14751996],\n",
       "       [-0.14751996,  1.        ]])"
      ]
     },
     "execution_count": 181,
     "metadata": {},
     "output_type": "execute_result"
    }
   ],
   "source": [
    "np.corrcoef(a,b) #correlation matrix (b/w -1 and 1)"
   ]
  },
  {
   "cell_type": "code",
   "execution_count": null,
   "id": "782c8321",
   "metadata": {},
   "outputs": [],
   "source": []
  }
 ],
 "metadata": {
  "kernelspec": {
   "display_name": "Python 3",
   "language": "python",
   "name": "python3"
  },
  "language_info": {
   "codemirror_mode": {
    "name": "ipython",
    "version": 3
   },
   "file_extension": ".py",
   "mimetype": "text/x-python",
   "name": "python",
   "nbconvert_exporter": "python",
   "pygments_lexer": "ipython3",
   "version": "3.8.8"
  }
 },
 "nbformat": 4,
 "nbformat_minor": 5
}
