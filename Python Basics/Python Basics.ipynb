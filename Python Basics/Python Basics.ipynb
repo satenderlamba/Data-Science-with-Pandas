{
 "cells": [
  {
   "cell_type": "markdown",
   "id": "795d5fea",
   "metadata": {},
   "source": [
    "# Python Basics"
   ]
  },
  {
   "cell_type": "markdown",
   "id": "64835f4d",
   "metadata": {},
   "source": [
    "## 1. First Steps"
   ]
  },
  {
   "cell_type": "markdown",
   "id": "b39dc8fd",
   "metadata": {},
   "source": [
    "In the session we will learn about the basics of Python."
   ]
  },
  {
   "cell_type": "code",
   "execution_count": 1,
   "id": "73eb2ea3",
   "metadata": {},
   "outputs": [
    {
     "data": {
      "text/plain": [
       "5"
      ]
     },
     "execution_count": 1,
     "metadata": {},
     "output_type": "execute_result"
    }
   ],
   "source": [
    "5"
   ]
  },
  {
   "cell_type": "code",
   "execution_count": 2,
   "id": "3864016d",
   "metadata": {},
   "outputs": [
    {
     "data": {
      "text/plain": [
       "25"
      ]
     },
     "execution_count": 2,
     "metadata": {},
     "output_type": "execute_result"
    }
   ],
   "source": [
    "5**2"
   ]
  },
  {
   "cell_type": "code",
   "execution_count": 3,
   "id": "8951e926",
   "metadata": {},
   "outputs": [
    {
     "data": {
      "text/plain": [
       "float"
      ]
     },
     "execution_count": 3,
     "metadata": {},
     "output_type": "execute_result"
    }
   ],
   "source": [
    "type(2.5)"
   ]
  },
  {
   "cell_type": "code",
   "execution_count": 4,
   "id": "10142f1b",
   "metadata": {},
   "outputs": [
    {
     "data": {
      "text/plain": [
       "'dog'"
      ]
     },
     "execution_count": 4,
     "metadata": {},
     "output_type": "execute_result"
    }
   ],
   "source": [
    "\"dog\""
   ]
  },
  {
   "cell_type": "code",
   "execution_count": 5,
   "id": "4de04dbd",
   "metadata": {},
   "outputs": [
    {
     "data": {
      "text/plain": [
       "'dog'"
      ]
     },
     "execution_count": 5,
     "metadata": {},
     "output_type": "execute_result"
    }
   ],
   "source": [
    "'dog'"
   ]
  },
  {
   "cell_type": "code",
   "execution_count": 6,
   "id": "04f20326",
   "metadata": {},
   "outputs": [
    {
     "ename": "NameError",
     "evalue": "name 'dog' is not defined",
     "output_type": "error",
     "traceback": [
      "\u001b[1;31m---------------------------------------------------------------------------\u001b[0m",
      "\u001b[1;31mNameError\u001b[0m                                 Traceback (most recent call last)",
      "\u001b[1;32m<ipython-input-6-ab3445b77b84>\u001b[0m in \u001b[0;36m<module>\u001b[1;34m\u001b[0m\n\u001b[1;32m----> 1\u001b[1;33m \u001b[0mtype\u001b[0m\u001b[1;33m(\u001b[0m\u001b[0mdog\u001b[0m\u001b[1;33m)\u001b[0m\u001b[1;33m\u001b[0m\u001b[1;33m\u001b[0m\u001b[0m\n\u001b[0m",
      "\u001b[1;31mNameError\u001b[0m: name 'dog' is not defined"
     ]
    }
   ],
   "source": [
    "type(dog)"
   ]
  },
  {
   "cell_type": "code",
   "execution_count": 89,
   "id": "e5380384",
   "metadata": {},
   "outputs": [
    {
     "data": {
      "text/plain": [
       "str"
      ]
     },
     "execution_count": 89,
     "metadata": {},
     "output_type": "execute_result"
    }
   ],
   "source": [
    "type(\"dog\")"
   ]
  },
  {
   "cell_type": "code",
   "execution_count": 90,
   "id": "a6e886a5",
   "metadata": {},
   "outputs": [
    {
     "name": "stdout",
     "output_type": "stream",
     "text": [
      "38 112\n"
     ]
    }
   ],
   "source": [
    "print(4+34, 45+67)"
   ]
  },
  {
   "cell_type": "code",
   "execution_count": null,
   "id": "9f802736",
   "metadata": {},
   "outputs": [],
   "source": [
    "print(56)"
   ]
  },
  {
   "cell_type": "markdown",
   "id": "5d51276d",
   "metadata": {},
   "source": [
    "# Variables"
   ]
  },
  {
   "cell_type": "code",
   "execution_count": null,
   "id": "d2a35977",
   "metadata": {},
   "outputs": [],
   "source": [
    "a = 5"
   ]
  },
  {
   "cell_type": "code",
   "execution_count": null,
   "id": "43ce36d7",
   "metadata": {},
   "outputs": [],
   "source": [
    "a"
   ]
  },
  {
   "cell_type": "code",
   "execution_count": null,
   "id": "f3326b8c",
   "metadata": {},
   "outputs": [],
   "source": [
    "print(a)"
   ]
  },
  {
   "cell_type": "code",
   "execution_count": null,
   "id": "a7ee183c",
   "metadata": {},
   "outputs": [],
   "source": [
    "a = 7 "
   ]
  },
  {
   "cell_type": "code",
   "execution_count": null,
   "id": "eabbfadf",
   "metadata": {},
   "outputs": [],
   "source": [
    "print(a)"
   ]
  },
  {
   "cell_type": "code",
   "execution_count": null,
   "id": "ab43377b",
   "metadata": {},
   "outputs": [],
   "source": [
    "b = 2\n"
   ]
  },
  {
   "cell_type": "code",
   "execution_count": null,
   "id": "40b156bc",
   "metadata": {},
   "outputs": [],
   "source": [
    "print(a,b)"
   ]
  },
  {
   "cell_type": "code",
   "execution_count": null,
   "id": "67c09733",
   "metadata": {},
   "outputs": [],
   "source": [
    "a+b"
   ]
  },
  {
   "cell_type": "code",
   "execution_count": null,
   "id": "ef31ae51",
   "metadata": {},
   "outputs": [],
   "source": [
    "a*b"
   ]
  },
  {
   "cell_type": "code",
   "execution_count": null,
   "id": "db75836d",
   "metadata": {},
   "outputs": [],
   "source": [
    "c = a/b"
   ]
  },
  {
   "cell_type": "code",
   "execution_count": null,
   "id": "5b164f2d",
   "metadata": {},
   "outputs": [],
   "source": [
    "c"
   ]
  },
  {
   "cell_type": "code",
   "execution_count": null,
   "id": "cc448d83",
   "metadata": {},
   "outputs": [],
   "source": [
    "type(c)"
   ]
  },
  {
   "cell_type": "code",
   "execution_count": null,
   "id": "c963af04",
   "metadata": {},
   "outputs": [],
   "source": [
    "d = \"dog\""
   ]
  },
  {
   "cell_type": "code",
   "execution_count": null,
   "id": "cf9f2734",
   "metadata": {},
   "outputs": [],
   "source": [
    "d"
   ]
  },
  {
   "cell_type": "code",
   "execution_count": null,
   "id": "9d35ade4",
   "metadata": {},
   "outputs": [],
   "source": [
    "type(d)"
   ]
  },
  {
   "cell_type": "code",
   "execution_count": null,
   "id": "10588ed8",
   "metadata": {},
   "outputs": [],
   "source": [
    "my_fav_fruit = \"grapes\""
   ]
  },
  {
   "cell_type": "code",
   "execution_count": null,
   "id": "ff26124f",
   "metadata": {},
   "outputs": [],
   "source": [
    "my_fav_fruit"
   ]
  },
  {
   "cell_type": "code",
   "execution_count": null,
   "id": "8349b4bf",
   "metadata": {},
   "outputs": [],
   "source": [
    "my_fav_fruit"
   ]
  },
  {
   "cell_type": "code",
   "execution_count": null,
   "id": "184dcbb0",
   "metadata": {},
   "outputs": [],
   "source": [
    "e = 10"
   ]
  },
  {
   "cell_type": "code",
   "execution_count": null,
   "id": "4599ff53",
   "metadata": {},
   "outputs": [],
   "source": [
    "f = 15"
   ]
  },
  {
   "cell_type": "code",
   "execution_count": null,
   "id": "f3b66b24",
   "metadata": {},
   "outputs": [],
   "source": [
    "f"
   ]
  },
  {
   "cell_type": "code",
   "execution_count": null,
   "id": "b0d1c741",
   "metadata": {},
   "outputs": [],
   "source": [
    "f = e"
   ]
  },
  {
   "cell_type": "code",
   "execution_count": null,
   "id": "2a793666",
   "metadata": {},
   "outputs": [],
   "source": [
    "f"
   ]
  },
  {
   "cell_type": "code",
   "execution_count": null,
   "id": "72171821",
   "metadata": {},
   "outputs": [],
   "source": [
    "f = &e"
   ]
  },
  {
   "cell_type": "markdown",
   "id": "a5d56bd9",
   "metadata": {},
   "source": [
    "# Intergers and Floats"
   ]
  },
  {
   "cell_type": "code",
   "execution_count": null,
   "id": "3fddf4ef",
   "metadata": {},
   "outputs": [],
   "source": [
    "a = 5"
   ]
  },
  {
   "cell_type": "code",
   "execution_count": null,
   "id": "e607209b",
   "metadata": {},
   "outputs": [],
   "source": [
    "b = 2"
   ]
  },
  {
   "cell_type": "code",
   "execution_count": null,
   "id": "0004beb9",
   "metadata": {},
   "outputs": [],
   "source": [
    "print(type(a), type(b))"
   ]
  },
  {
   "cell_type": "code",
   "execution_count": null,
   "id": "077e04f0",
   "metadata": {},
   "outputs": [],
   "source": [
    "a+b"
   ]
  },
  {
   "cell_type": "code",
   "execution_count": null,
   "id": "805937e5",
   "metadata": {},
   "outputs": [],
   "source": [
    "c = a-b"
   ]
  },
  {
   "cell_type": "code",
   "execution_count": null,
   "id": "602f3803",
   "metadata": {},
   "outputs": [],
   "source": [
    "c = a/3"
   ]
  },
  {
   "cell_type": "code",
   "execution_count": null,
   "id": "5bcdf7ed",
   "metadata": {},
   "outputs": [],
   "source": [
    "a*b"
   ]
  },
  {
   "cell_type": "code",
   "execution_count": null,
   "id": "be5d6d95",
   "metadata": {},
   "outputs": [],
   "source": [
    "type(c)"
   ]
  },
  {
   "cell_type": "code",
   "execution_count": null,
   "id": "82be6ba5",
   "metadata": {},
   "outputs": [],
   "source": [
    "d = 5.0"
   ]
  },
  {
   "cell_type": "code",
   "execution_count": null,
   "id": "a634874c",
   "metadata": {},
   "outputs": [],
   "source": [
    "type(d)"
   ]
  },
  {
   "cell_type": "code",
   "execution_count": null,
   "id": "91f4d8c7",
   "metadata": {},
   "outputs": [],
   "source": [
    "c.as_interger_ratio()"
   ]
  },
  {
   "cell_type": "code",
   "execution_count": null,
   "id": "f22a26a5",
   "metadata": {},
   "outputs": [],
   "source": [
    "c.as_integer_ratio"
   ]
  },
  {
   "cell_type": "code",
   "execution_count": null,
   "id": "28cb9197",
   "metadata": {},
   "outputs": [],
   "source": [
    "c.as_integer_ratio()"
   ]
  },
  {
   "cell_type": "code",
   "execution_count": null,
   "id": "0d8328a7",
   "metadata": {},
   "outputs": [],
   "source": [
    "c.is_integer()"
   ]
  },
  {
   "cell_type": "code",
   "execution_count": null,
   "id": "8cff0e44",
   "metadata": {},
   "outputs": [],
   "source": [
    "b"
   ]
  },
  {
   "cell_type": "code",
   "execution_count": null,
   "id": "ecd5c769",
   "metadata": {},
   "outputs": [],
   "source": [
    "b.denominator"
   ]
  },
  {
   "cell_type": "code",
   "execution_count": null,
   "id": "a47d6909",
   "metadata": {},
   "outputs": [],
   "source": [
    "b.numerator"
   ]
  },
  {
   "cell_type": "code",
   "execution_count": null,
   "id": "fb708a7b",
   "metadata": {},
   "outputs": [],
   "source": [
    "e = 11/3"
   ]
  },
  {
   "cell_type": "code",
   "execution_count": null,
   "id": "0d441256",
   "metadata": {},
   "outputs": [],
   "source": [
    "e.as_integer_ratio()"
   ]
  },
  {
   "cell_type": "code",
   "execution_count": null,
   "id": "818f857e",
   "metadata": {},
   "outputs": [],
   "source": [
    "round(d,1)"
   ]
  },
  {
   "cell_type": "code",
   "execution_count": null,
   "id": "a2fd151b",
   "metadata": {},
   "outputs": [],
   "source": [
    "d"
   ]
  },
  {
   "cell_type": "code",
   "execution_count": null,
   "id": "1d8fa215",
   "metadata": {},
   "outputs": [],
   "source": [
    "round(e,1)"
   ]
  },
  {
   "cell_type": "code",
   "execution_count": null,
   "id": "5c8ba0d6",
   "metadata": {},
   "outputs": [],
   "source": [
    "int(e)"
   ]
  },
  {
   "cell_type": "markdown",
   "id": "7ea3cbc1",
   "metadata": {},
   "source": [
    "e"
   ]
  },
  {
   "cell_type": "code",
   "execution_count": null,
   "id": "d1a9e3a1",
   "metadata": {},
   "outputs": [],
   "source": [
    "float(a)"
   ]
  },
  {
   "cell_type": "code",
   "execution_count": null,
   "id": "3c01f14c",
   "metadata": {},
   "outputs": [],
   "source": [
    "\"5\" #integer to string"
   ]
  },
  {
   "cell_type": "markdown",
   "id": "8af15d09",
   "metadata": {},
   "source": [
    "# Strings"
   ]
  },
  {
   "cell_type": "code",
   "execution_count": null,
   "id": "30842bc7",
   "metadata": {},
   "outputs": [],
   "source": [
    "c = \"5\""
   ]
  },
  {
   "cell_type": "code",
   "execution_count": null,
   "id": "f00bf360",
   "metadata": {},
   "outputs": [],
   "source": [
    "type(c)"
   ]
  },
  {
   "cell_type": "code",
   "execution_count": null,
   "id": "9c1e1fe5",
   "metadata": {},
   "outputs": [],
   "source": [
    "5+2"
   ]
  },
  {
   "cell_type": "code",
   "execution_count": null,
   "id": "27c106d0",
   "metadata": {},
   "outputs": [],
   "source": [
    "c+5"
   ]
  },
  {
   "cell_type": "code",
   "execution_count": null,
   "id": "8442c13c",
   "metadata": {},
   "outputs": [],
   "source": [
    "d = \"dog\""
   ]
  },
  {
   "cell_type": "code",
   "execution_count": null,
   "id": "2e5a05a3",
   "metadata": {},
   "outputs": [],
   "source": [
    "c+d"
   ]
  },
  {
   "cell_type": "code",
   "execution_count": null,
   "id": "8edb663a",
   "metadata": {},
   "outputs": [],
   "source": [
    "d+c"
   ]
  },
  {
   "cell_type": "code",
   "execution_count": null,
   "id": "20000757",
   "metadata": {},
   "outputs": [],
   "source": [
    "c-d"
   ]
  },
  {
   "cell_type": "code",
   "execution_count": null,
   "id": "25b0cce3",
   "metadata": {},
   "outputs": [],
   "source": [
    "d+5"
   ]
  },
  {
   "cell_type": "code",
   "execution_count": null,
   "id": "62b2954e",
   "metadata": {},
   "outputs": [],
   "source": [
    "d+str(567)"
   ]
  },
  {
   "cell_type": "code",
   "execution_count": null,
   "id": "c971d2bd",
   "metadata": {},
   "outputs": [],
   "source": [
    "d*5"
   ]
  },
  {
   "cell_type": "code",
   "execution_count": null,
   "id": "8062373b",
   "metadata": {},
   "outputs": [],
   "source": [
    "statement = \"I \" + \"have \" + \"5 \" + \" cats.\"\n",
    "statement"
   ]
  },
  {
   "cell_type": "code",
   "execution_count": null,
   "id": "e13fbd9c",
   "metadata": {},
   "outputs": [],
   "source": [
    "amount = 5"
   ]
  },
  {
   "cell_type": "code",
   "execution_count": null,
   "id": "f3fee6b2",
   "metadata": {},
   "outputs": [],
   "source": [
    "animal = \"badger\""
   ]
  },
  {
   "cell_type": "code",
   "execution_count": null,
   "id": "b9633449",
   "metadata": {},
   "outputs": [],
   "source": [
    "print( \"I have {} {}.\".format(amount, animal))"
   ]
  },
  {
   "cell_type": "code",
   "execution_count": null,
   "id": "8e00a446",
   "metadata": {},
   "outputs": [],
   "source": [
    "del(amount) #deleting string"
   ]
  },
  {
   "cell_type": "code",
   "execution_count": null,
   "id": "365e1cdd",
   "metadata": {},
   "outputs": [],
   "source": [
    "len(animal)"
   ]
  },
  {
   "cell_type": "code",
   "execution_count": null,
   "id": "426a8de2",
   "metadata": {},
   "outputs": [],
   "source": [
    "len(23)"
   ]
  },
  {
   "cell_type": "code",
   "execution_count": null,
   "id": "7773561d",
   "metadata": {},
   "outputs": [],
   "source": [
    "len(statenent1)"
   ]
  },
  {
   "cell_type": "code",
   "execution_count": null,
   "id": "e36d57c9",
   "metadata": {},
   "outputs": [],
   "source": [
    "len(statement2)"
   ]
  },
  {
   "cell_type": "code",
   "execution_count": null,
   "id": "c7f5f6a2",
   "metadata": {},
   "outputs": [],
   "source": [
    "len(statement)"
   ]
  },
  {
   "cell_type": "code",
   "execution_count": null,
   "id": "65a8fed7",
   "metadata": {},
   "outputs": [],
   "source": [
    "len(\"statement\")"
   ]
  },
  {
   "cell_type": "code",
   "execution_count": null,
   "id": "5df53861",
   "metadata": {},
   "outputs": [],
   "source": [
    "statement = statement.upper()"
   ]
  },
  {
   "cell_type": "code",
   "execution_count": null,
   "id": "00e31354",
   "metadata": {},
   "outputs": [],
   "source": [
    "statement"
   ]
  },
  {
   "cell_type": "code",
   "execution_count": null,
   "id": "8793b876",
   "metadata": {},
   "outputs": [],
   "source": [
    "statement = statement.lower()\n",
    "statement"
   ]
  },
  {
   "cell_type": "code",
   "execution_count": null,
   "id": "8613a3bf",
   "metadata": {},
   "outputs": [],
   "source": [
    "statement = statement.capitalize()"
   ]
  },
  {
   "cell_type": "code",
   "execution_count": null,
   "id": "d4dde95b",
   "metadata": {},
   "outputs": [],
   "source": [
    "statement"
   ]
  },
  {
   "cell_type": "code",
   "execution_count": null,
   "id": "00bb6f97",
   "metadata": {},
   "outputs": [],
   "source": [
    "l = list(statement)"
   ]
  },
  {
   "cell_type": "code",
   "execution_count": null,
   "id": "636102d5",
   "metadata": {},
   "outputs": [],
   "source": [
    "l"
   ]
  },
  {
   "cell_type": "markdown",
   "id": "325f7e33",
   "metadata": {},
   "source": [
    "# Lists"
   ]
  },
  {
   "cell_type": "code",
   "execution_count": null,
   "id": "46001cb0",
   "metadata": {},
   "outputs": [],
   "source": [
    "l = [1,2,3,4]\n",
    "l"
   ]
  },
  {
   "cell_type": "code",
   "execution_count": null,
   "id": "35a8570e",
   "metadata": {},
   "outputs": [],
   "source": [
    "type(l)"
   ]
  },
  {
   "cell_type": "code",
   "execution_count": null,
   "id": "9c1cad6b",
   "metadata": {},
   "outputs": [],
   "source": [
    "l = [\"str\", 1]\n",
    "print(l)"
   ]
  },
  {
   "cell_type": "code",
   "execution_count": null,
   "id": "c63bd140",
   "metadata": {},
   "outputs": [],
   "source": [
    "type(l)"
   ]
  },
  {
   "cell_type": "code",
   "execution_count": null,
   "id": "620a37e6",
   "metadata": {},
   "outputs": [],
   "source": [
    "len(l)"
   ]
  },
  {
   "cell_type": "code",
   "execution_count": null,
   "id": "3a66adb0",
   "metadata": {},
   "outputs": [],
   "source": [
    "p = list(\"this is a string!\")\n",
    "p"
   ]
  },
  {
   "cell_type": "code",
   "execution_count": null,
   "id": "1083474c",
   "metadata": {},
   "outputs": [],
   "source": [
    "type(p)"
   ]
  },
  {
   "cell_type": "code",
   "execution_count": null,
   "id": "f14b7c54",
   "metadata": {},
   "outputs": [],
   "source": [
    "len(p)"
   ]
  },
  {
   "cell_type": "code",
   "execution_count": null,
   "id": "4f88f888",
   "metadata": {},
   "outputs": [],
   "source": [
    "sum(l)"
   ]
  },
  {
   "cell_type": "code",
   "execution_count": null,
   "id": "8a220aef",
   "metadata": {},
   "outputs": [],
   "source": [
    "sum(p)"
   ]
  },
  {
   "cell_type": "code",
   "execution_count": null,
   "id": "71afced6",
   "metadata": {},
   "outputs": [],
   "source": [
    "l = [2,3,5]\n",
    "sum(l)"
   ]
  },
  {
   "cell_type": "code",
   "execution_count": null,
   "id": "97690a35",
   "metadata": {},
   "outputs": [],
   "source": [
    "l"
   ]
  },
  {
   "cell_type": "code",
   "execution_count": null,
   "id": "560a853a",
   "metadata": {},
   "outputs": [],
   "source": [
    "l.append(6)"
   ]
  },
  {
   "cell_type": "code",
   "execution_count": null,
   "id": "7aef1ce4",
   "metadata": {},
   "outputs": [],
   "source": [
    "l"
   ]
  },
  {
   "cell_type": "code",
   "execution_count": null,
   "id": "489b9de8",
   "metadata": {},
   "outputs": [],
   "source": [
    "l.count(5)"
   ]
  },
  {
   "cell_type": "code",
   "execution_count": null,
   "id": "b30c38d5",
   "metadata": {},
   "outputs": [],
   "source": [
    "l.remove(2)\n",
    "l"
   ]
  },
  {
   "cell_type": "code",
   "execution_count": null,
   "id": "edbc8d59",
   "metadata": {},
   "outputs": [],
   "source": [
    "l.append(5,6)"
   ]
  },
  {
   "cell_type": "code",
   "execution_count": null,
   "id": "c497420a",
   "metadata": {},
   "outputs": [],
   "source": [
    "l.append(9)"
   ]
  },
  {
   "cell_type": "code",
   "execution_count": null,
   "id": "a34c9d6e",
   "metadata": {},
   "outputs": [],
   "source": [
    "l.reverse()"
   ]
  },
  {
   "cell_type": "code",
   "execution_count": null,
   "id": "6796a0f6",
   "metadata": {},
   "outputs": [],
   "source": [
    "l"
   ]
  },
  {
   "cell_type": "code",
   "execution_count": null,
   "id": "d3824153",
   "metadata": {},
   "outputs": [],
   "source": [
    "l.sort(reverse= True)\n",
    "l"
   ]
  },
  {
   "cell_type": "code",
   "execution_count": null,
   "id": "0c44e24b",
   "metadata": {},
   "outputs": [],
   "source": [
    "l + [3,4,56]"
   ]
  },
  {
   "cell_type": "code",
   "execution_count": null,
   "id": "9e252491",
   "metadata": {},
   "outputs": [],
   "source": [
    "l"
   ]
  },
  {
   "cell_type": "code",
   "execution_count": null,
   "id": "5e6dc5a0",
   "metadata": {},
   "outputs": [],
   "source": [
    "l = l + [3,4,6,78]\n",
    "l"
   ]
  },
  {
   "cell_type": "code",
   "execution_count": null,
   "id": "88452bd7",
   "metadata": {},
   "outputs": [],
   "source": [
    "l*1.2"
   ]
  },
  {
   "cell_type": "code",
   "execution_count": null,
   "id": "33d01c5f",
   "metadata": {},
   "outputs": [],
   "source": [
    "l*2"
   ]
  },
  {
   "cell_type": "code",
   "execution_count": null,
   "id": "66194907",
   "metadata": {},
   "outputs": [],
   "source": [
    "l"
   ]
  },
  {
   "cell_type": "markdown",
   "id": "f1d2b9a1",
   "metadata": {},
   "source": [
    "# List part 2"
   ]
  },
  {
   "cell_type": "code",
   "execution_count": null,
   "id": "6e62c01d",
   "metadata": {},
   "outputs": [],
   "source": [
    "l"
   ]
  },
  {
   "cell_type": "code",
   "execution_count": null,
   "id": "7f4250d8",
   "metadata": {},
   "outputs": [],
   "source": [
    "l = [1,2,3,4,5]"
   ]
  },
  {
   "cell_type": "code",
   "execution_count": null,
   "id": "aefb6d06",
   "metadata": {},
   "outputs": [],
   "source": [
    "l[-1]"
   ]
  },
  {
   "cell_type": "code",
   "execution_count": null,
   "id": "8f162923",
   "metadata": {},
   "outputs": [],
   "source": [
    "l[len(l)]"
   ]
  },
  {
   "cell_type": "code",
   "execution_count": null,
   "id": "ffcf1eab",
   "metadata": {},
   "outputs": [],
   "source": [
    "len(l)"
   ]
  },
  {
   "cell_type": "code",
   "execution_count": null,
   "id": "173bfa91",
   "metadata": {},
   "outputs": [],
   "source": [
    "c= len(l)"
   ]
  },
  {
   "cell_type": "code",
   "execution_count": null,
   "id": "40acf0a1",
   "metadata": {},
   "outputs": [],
   "source": [
    "l[c]"
   ]
  },
  {
   "cell_type": "code",
   "execution_count": null,
   "id": "04fe9d48",
   "metadata": {},
   "outputs": [],
   "source": [
    "l[c-1]"
   ]
  },
  {
   "cell_type": "code",
   "execution_count": null,
   "id": "2fec11d3",
   "metadata": {},
   "outputs": [],
   "source": [
    "l[len(l)-1]"
   ]
  },
  {
   "cell_type": "code",
   "execution_count": null,
   "id": "deb24eb9",
   "metadata": {},
   "outputs": [],
   "source": [
    "l[0] = 100"
   ]
  },
  {
   "cell_type": "code",
   "execution_count": null,
   "id": "00259982",
   "metadata": {},
   "outputs": [],
   "source": [
    "l"
   ]
  },
  {
   "cell_type": "code",
   "execution_count": null,
   "id": "afe56f4b",
   "metadata": {},
   "outputs": [],
   "source": [
    "l[1:4]"
   ]
  },
  {
   "cell_type": "code",
   "execution_count": null,
   "id": "f3fe1b8d",
   "metadata": {},
   "outputs": [],
   "source": [
    "l[1:5]"
   ]
  },
  {
   "cell_type": "code",
   "execution_count": null,
   "id": "ba80078d",
   "metadata": {},
   "outputs": [],
   "source": [
    "l[1:6]"
   ]
  },
  {
   "cell_type": "code",
   "execution_count": null,
   "id": "3dc49fbb",
   "metadata": {},
   "outputs": [],
   "source": [
    "l[1:]"
   ]
  },
  {
   "cell_type": "code",
   "execution_count": null,
   "id": "341b03e1",
   "metadata": {},
   "outputs": [],
   "source": [
    "l[:3]"
   ]
  },
  {
   "cell_type": "code",
   "execution_count": null,
   "id": "96c2643d",
   "metadata": {},
   "outputs": [],
   "source": [
    "l"
   ]
  },
  {
   "cell_type": "code",
   "execution_count": null,
   "id": "2a461acd",
   "metadata": {},
   "outputs": [],
   "source": [
    "l[:]"
   ]
  },
  {
   "cell_type": "code",
   "execution_count": null,
   "id": "0d8df80e",
   "metadata": {},
   "outputs": [],
   "source": [
    "l = [1,2,3,4,5,6,7,8,9,10]"
   ]
  },
  {
   "cell_type": "code",
   "execution_count": null,
   "id": "0840a506",
   "metadata": {},
   "outputs": [],
   "source": [
    "l[::2]"
   ]
  },
  {
   "cell_type": "code",
   "execution_count": null,
   "id": "d5bcfc83",
   "metadata": {},
   "outputs": [],
   "source": [
    "l[::3]"
   ]
  },
  {
   "cell_type": "code",
   "execution_count": null,
   "id": "f91ba6f6",
   "metadata": {},
   "outputs": [],
   "source": [
    "l[1::2]"
   ]
  },
  {
   "cell_type": "code",
   "execution_count": null,
   "id": "78bcb117",
   "metadata": {},
   "outputs": [],
   "source": [
    "l[4:7] = [50,56,58]\n",
    "l"
   ]
  },
  {
   "cell_type": "code",
   "execution_count": null,
   "id": "9e211b6a",
   "metadata": {},
   "outputs": [],
   "source": [
    "del l[0]\n",
    "l"
   ]
  },
  {
   "cell_type": "code",
   "execution_count": null,
   "id": "91f7cc8b",
   "metadata": {},
   "outputs": [],
   "source": [
    "players = [ [\"Andy\" , 1.86, 82] , [\"Joe\" , 6.5, 67]]"
   ]
  },
  {
   "cell_type": "code",
   "execution_count": null,
   "id": "9b3221c4",
   "metadata": {},
   "outputs": [],
   "source": [
    "players"
   ]
  },
  {
   "cell_type": "code",
   "execution_count": null,
   "id": "eece6bc4",
   "metadata": {},
   "outputs": [],
   "source": [
    "print(type(players) , len(players), sep = '\\n')"
   ]
  },
  {
   "cell_type": "code",
   "execution_count": null,
   "id": "29bd346e",
   "metadata": {},
   "outputs": [],
   "source": [
    "type(l)"
   ]
  },
  {
   "cell_type": "code",
   "execution_count": null,
   "id": "f6931a8e",
   "metadata": {},
   "outputs": [],
   "source": [
    "players[0]"
   ]
  },
  {
   "cell_type": "code",
   "execution_count": null,
   "id": "33bcd8b8",
   "metadata": {},
   "outputs": [],
   "source": [
    "players[0][2]"
   ]
  },
  {
   "cell_type": "code",
   "execution_count": null,
   "id": "3b0fa498",
   "metadata": {},
   "outputs": [],
   "source": [
    "names = [players[0][0], players[1][0]]\n",
    "names"
   ]
  },
  {
   "cell_type": "code",
   "execution_count": null,
   "id": "836ad0c5",
   "metadata": {},
   "outputs": [],
   "source": [
    "x = [1,2,3,4]"
   ]
  },
  {
   "cell_type": "code",
   "execution_count": null,
   "id": "f7f7297c",
   "metadata": {},
   "outputs": [],
   "source": [
    "y = x.copy()\n",
    "y"
   ]
  },
  {
   "cell_type": "code",
   "execution_count": null,
   "id": "1eb891f4",
   "metadata": {},
   "outputs": [],
   "source": [
    "x[0] = 100"
   ]
  },
  {
   "cell_type": "code",
   "execution_count": null,
   "id": "5e009e63",
   "metadata": {},
   "outputs": [],
   "source": [
    "y"
   ]
  },
  {
   "cell_type": "code",
   "execution_count": null,
   "id": "211b6ace",
   "metadata": {},
   "outputs": [],
   "source": [
    "a = b"
   ]
  },
  {
   "cell_type": "code",
   "execution_count": null,
   "id": "4cea23b4",
   "metadata": {},
   "outputs": [],
   "source": [
    "a = 10"
   ]
  },
  {
   "cell_type": "code",
   "execution_count": null,
   "id": "a0d5c517",
   "metadata": {},
   "outputs": [],
   "source": [
    "b = a"
   ]
  },
  {
   "cell_type": "code",
   "execution_count": null,
   "id": "69123fdc",
   "metadata": {},
   "outputs": [],
   "source": [
    "b"
   ]
  },
  {
   "cell_type": "code",
   "execution_count": null,
   "id": "b6bc9e8e",
   "metadata": {},
   "outputs": [],
   "source": [
    "a = 12"
   ]
  },
  {
   "cell_type": "code",
   "execution_count": null,
   "id": "270caafb",
   "metadata": {},
   "outputs": [],
   "source": [
    "b"
   ]
  },
  {
   "cell_type": "code",
   "execution_count": null,
   "id": "795bd8cd",
   "metadata": {},
   "outputs": [],
   "source": [
    "d = \"dog\"\n",
    "d"
   ]
  },
  {
   "cell_type": "code",
   "execution_count": null,
   "id": "ae8d5b62",
   "metadata": {},
   "outputs": [],
   "source": [
    "d[0]"
   ]
  },
  {
   "cell_type": "code",
   "execution_count": null,
   "id": "79e9263d",
   "metadata": {},
   "outputs": [],
   "source": [
    "y = x[:]"
   ]
  },
  {
   "cell_type": "code",
   "execution_count": null,
   "id": "4e54eaf2",
   "metadata": {},
   "outputs": [],
   "source": [
    "y"
   ]
  },
  {
   "cell_type": "code",
   "execution_count": null,
   "id": "5bd7d562",
   "metadata": {},
   "outputs": [],
   "source": [
    "x[2] = 233"
   ]
  },
  {
   "cell_type": "code",
   "execution_count": null,
   "id": "09d954cb",
   "metadata": {},
   "outputs": [],
   "source": [
    "y"
   ]
  },
  {
   "cell_type": "code",
   "execution_count": null,
   "id": "0de16086",
   "metadata": {},
   "outputs": [],
   "source": [
    "y = x"
   ]
  },
  {
   "cell_type": "code",
   "execution_count": null,
   "id": "e1ce461e",
   "metadata": {},
   "outputs": [],
   "source": [
    "y"
   ]
  },
  {
   "cell_type": "code",
   "execution_count": null,
   "id": "297babaf",
   "metadata": {},
   "outputs": [],
   "source": [
    "x[1]=2 "
   ]
  },
  {
   "cell_type": "code",
   "execution_count": null,
   "id": "635ec54b",
   "metadata": {},
   "outputs": [],
   "source": [
    "x[1] = 1222"
   ]
  },
  {
   "cell_type": "code",
   "execution_count": null,
   "id": "03ade4bc",
   "metadata": {},
   "outputs": [],
   "source": [
    "y"
   ]
  },
  {
   "cell_type": "code",
   "execution_count": null,
   "id": "2db37ee3",
   "metadata": {},
   "outputs": [],
   "source": [
    "d[1] = a\n",
    "d"
   ]
  },
  {
   "cell_type": "markdown",
   "id": "b499e45e",
   "metadata": {},
   "source": [
    "# Tuple"
   ]
  },
  {
   "cell_type": "markdown",
   "id": "3abda64a",
   "metadata": {},
   "source": [
    "almost same as list but less functionality\n",
    "does not support change in elements once declared"
   ]
  },
  {
   "cell_type": "code",
   "execution_count": null,
   "id": "0e1fdbc9",
   "metadata": {},
   "outputs": [],
   "source": [
    "a = (1,2,3) #create typle with ()\n",
    "a"
   ]
  },
  {
   "cell_type": "code",
   "execution_count": null,
   "id": "0018217a",
   "metadata": {},
   "outputs": [],
   "source": [
    "b = 1,2,3\n",
    "b"
   ]
  },
  {
   "cell_type": "code",
   "execution_count": null,
   "id": "d6c61aba",
   "metadata": {},
   "outputs": [],
   "source": [
    "enumerate(l)"
   ]
  },
  {
   "cell_type": "code",
   "execution_count": null,
   "id": "9060a6ce",
   "metadata": {},
   "outputs": [],
   "source": [
    "l"
   ]
  },
  {
   "cell_type": "code",
   "execution_count": null,
   "id": "9fb41a1d",
   "metadata": {},
   "outputs": [],
   "source": [
    "m = enumerate(l)\n",
    "m"
   ]
  },
  {
   "cell_type": "code",
   "execution_count": null,
   "id": "7f0234b5",
   "metadata": {},
   "outputs": [],
   "source": [
    "m = list(enumerate(l))\n",
    "m"
   ]
  },
  {
   "cell_type": "code",
   "execution_count": null,
   "id": "5ed25a8d",
   "metadata": {},
   "outputs": [],
   "source": [
    "list(\"doggy\")"
   ]
  },
  {
   "cell_type": "code",
   "execution_count": null,
   "id": "37962851",
   "metadata": {},
   "outputs": [],
   "source": [
    "first_tuple = m[0]"
   ]
  },
  {
   "cell_type": "code",
   "execution_count": null,
   "id": "827d02b4",
   "metadata": {},
   "outputs": [],
   "source": [
    "first_tuple"
   ]
  },
  {
   "cell_type": "code",
   "execution_count": null,
   "id": "3800513b",
   "metadata": {},
   "outputs": [],
   "source": [
    "m[0:]"
   ]
  },
  {
   "cell_type": "code",
   "execution_count": null,
   "id": "1aff533a",
   "metadata": {},
   "outputs": [],
   "source": [
    "m[0:4]"
   ]
  },
  {
   "cell_type": "markdown",
   "id": "b89f4d91",
   "metadata": {},
   "source": [
    "# Sets"
   ]
  },
  {
   "cell_type": "markdown",
   "id": "13a2dd26",
   "metadata": {},
   "source": [
    "Containers of many data types"
   ]
  },
  {
   "cell_type": "markdown",
   "id": "1c5c640a",
   "metadata": {},
   "source": [
    "Set removes duplicats.\n"
   ]
  },
  {
   "cell_type": "code",
   "execution_count": null,
   "id": "1e6986ed",
   "metadata": {},
   "outputs": [],
   "source": [
    "l = [1,1,1,1,2,2,3,4,5,5,6,6]"
   ]
  },
  {
   "cell_type": "code",
   "execution_count": null,
   "id": "36f9f621",
   "metadata": {},
   "outputs": [],
   "source": [
    "l"
   ]
  },
  {
   "cell_type": "code",
   "execution_count": null,
   "id": "0f05f002",
   "metadata": {},
   "outputs": [],
   "source": [
    "set(l)"
   ]
  },
  {
   "cell_type": "code",
   "execution_count": null,
   "id": "0f691b1d",
   "metadata": {},
   "outputs": [],
   "source": [
    "s = set(l)\n",
    "s"
   ]
  },
  {
   "cell_type": "code",
   "execution_count": null,
   "id": "a8a21208",
   "metadata": {},
   "outputs": [],
   "source": [
    "type(s) #type of set is \"set\""
   ]
  },
  {
   "cell_type": "code",
   "execution_count": null,
   "id": "eb942379",
   "metadata": {},
   "outputs": [],
   "source": [
    "t = {11,11,12,13,14,14,15} #create set using {}"
   ]
  },
  {
   "cell_type": "code",
   "execution_count": null,
   "id": "92dde643",
   "metadata": {},
   "outputs": [],
   "source": [
    "t #will only print single elements, deletes duplicates"
   ]
  },
  {
   "cell_type": "code",
   "execution_count": null,
   "id": "32f3014e",
   "metadata": {},
   "outputs": [],
   "source": [
    "len(t) #count no. of unique elements"
   ]
  },
  {
   "cell_type": "code",
   "execution_count": null,
   "id": "8d063358",
   "metadata": {},
   "outputs": [],
   "source": [
    "t.add(6) #add another element"
   ]
  },
  {
   "cell_type": "code",
   "execution_count": null,
   "id": "3c094291",
   "metadata": {},
   "outputs": [],
   "source": [
    "t"
   ]
  },
  {
   "cell_type": "code",
   "execution_count": null,
   "id": "a525074b",
   "metadata": {},
   "outputs": [],
   "source": [
    "t.remove(13) #remove an element"
   ]
  },
  {
   "cell_type": "code",
   "execution_count": null,
   "id": "a8ff676f",
   "metadata": {},
   "outputs": [],
   "source": [
    "t"
   ]
  },
  {
   "cell_type": "code",
   "execution_count": null,
   "id": "64c6fed9",
   "metadata": {},
   "outputs": [],
   "source": [
    "t[0] #indexing not supported"
   ]
  },
  {
   "cell_type": "code",
   "execution_count": 7,
   "id": "258502f7",
   "metadata": {},
   "outputs": [
    {
     "data": {
      "text/plain": [
       "{'cats', 'dog', 'dog '}"
      ]
     },
     "execution_count": 7,
     "metadata": {},
     "output_type": "execute_result"
    }
   ],
   "source": [
    "u = {\"dog\", \"dog \", \"cats\"} #strings supported\n",
    "u"
   ]
  },
  {
   "cell_type": "code",
   "execution_count": 8,
   "id": "ed0a5a89",
   "metadata": {},
   "outputs": [
    {
     "data": {
      "text/plain": [
       "{-32, 11, 12, 13, 14}"
      ]
     },
     "execution_count": 8,
     "metadata": {},
     "output_type": "execute_result"
    }
   ],
   "source": [
    "t = {14, 12, 13, 11, -32} #sorts automatically\n",
    "t"
   ]
  },
  {
   "cell_type": "markdown",
   "id": "ee52f950",
   "metadata": {},
   "source": [
    "# Operators and Booleans"
   ]
  },
  {
   "cell_type": "markdown",
   "id": "8a481e30",
   "metadata": {},
   "source": [
    "## Arithmetic"
   ]
  },
  {
   "cell_type": "code",
   "execution_count": 9,
   "id": "8baf3353",
   "metadata": {},
   "outputs": [],
   "source": [
    "a = 5\n",
    "b = 2\n",
    "c = 7"
   ]
  },
  {
   "cell_type": "markdown",
   "id": "2227430a",
   "metadata": {},
   "source": [
    "### + -  *  / all work the same"
   ]
  },
  {
   "cell_type": "code",
   "execution_count": 10,
   "id": "221d4d91",
   "metadata": {},
   "outputs": [
    {
     "data": {
      "text/plain": [
       "2"
      ]
     },
     "execution_count": 10,
     "metadata": {},
     "output_type": "execute_result"
    }
   ],
   "source": [
    "a//b #floor divide, rounds the division to interger"
   ]
  },
  {
   "cell_type": "code",
   "execution_count": 11,
   "id": "c9301c9e",
   "metadata": {},
   "outputs": [
    {
     "data": {
      "text/plain": [
       "25"
      ]
     },
     "execution_count": 11,
     "metadata": {},
     "output_type": "execute_result"
    }
   ],
   "source": [
    "a**b #exponential"
   ]
  },
  {
   "cell_type": "code",
   "execution_count": 12,
   "id": "84b80a2d",
   "metadata": {},
   "outputs": [
    {
     "data": {
      "text/plain": [
       "1"
      ]
     },
     "execution_count": 12,
     "metadata": {},
     "output_type": "execute_result"
    }
   ],
   "source": [
    "a%b #modulus (remainder)"
   ]
  },
  {
   "cell_type": "markdown",
   "id": "282a1ac9",
   "metadata": {},
   "source": [
    "## Comparison Operators"
   ]
  },
  {
   "cell_type": "code",
   "execution_count": 13,
   "id": "890f015e",
   "metadata": {},
   "outputs": [],
   "source": [
    "a = 5\n",
    "b = 2\n",
    "c = 7"
   ]
  },
  {
   "cell_type": "code",
   "execution_count": 14,
   "id": "8f6fa0ee",
   "metadata": {},
   "outputs": [
    {
     "data": {
      "text/plain": [
       "False"
      ]
     },
     "execution_count": 14,
     "metadata": {},
     "output_type": "execute_result"
    }
   ],
   "source": [
    "a == b #true if a=b"
   ]
  },
  {
   "cell_type": "code",
   "execution_count": 15,
   "id": "ccd743c9",
   "metadata": {},
   "outputs": [
    {
     "data": {
      "text/plain": [
       "True"
      ]
     },
     "execution_count": 15,
     "metadata": {},
     "output_type": "execute_result"
    }
   ],
   "source": [
    "a != b #true if a not equal to b"
   ]
  },
  {
   "cell_type": "code",
   "execution_count": 16,
   "id": "6ec23cc5",
   "metadata": {},
   "outputs": [
    {
     "data": {
      "text/plain": [
       "False"
      ]
     },
     "execution_count": 16,
     "metadata": {},
     "output_type": "execute_result"
    }
   ],
   "source": [
    "a<b"
   ]
  },
  {
   "cell_type": "code",
   "execution_count": 17,
   "id": "cd023690",
   "metadata": {},
   "outputs": [
    {
     "data": {
      "text/plain": [
       "True"
      ]
     },
     "execution_count": 17,
     "metadata": {},
     "output_type": "execute_result"
    }
   ],
   "source": [
    "a>b"
   ]
  },
  {
   "cell_type": "code",
   "execution_count": 18,
   "id": "7927e3ef",
   "metadata": {},
   "outputs": [
    {
     "data": {
      "text/plain": [
       "True"
      ]
     },
     "execution_count": 18,
     "metadata": {},
     "output_type": "execute_result"
    }
   ],
   "source": [
    "a+b <=c #true if a+b is less than equal to c"
   ]
  },
  {
   "cell_type": "markdown",
   "id": "f7081722",
   "metadata": {},
   "source": [
    "## Booleans"
   ]
  },
  {
   "cell_type": "code",
   "execution_count": 19,
   "id": "d415f9d5",
   "metadata": {},
   "outputs": [
    {
     "data": {
      "text/plain": [
       "bool"
      ]
     },
     "execution_count": 19,
     "metadata": {},
     "output_type": "execute_result"
    }
   ],
   "source": [
    "type(True) #data type bool"
   ]
  },
  {
   "cell_type": "code",
   "execution_count": 20,
   "id": "ef5c454e",
   "metadata": {},
   "outputs": [
    {
     "data": {
      "text/plain": [
       "1"
      ]
     },
     "execution_count": 20,
     "metadata": {},
     "output_type": "execute_result"
    }
   ],
   "source": [
    "int(True) #int value for True"
   ]
  },
  {
   "cell_type": "code",
   "execution_count": 21,
   "id": "c592bc72",
   "metadata": {},
   "outputs": [
    {
     "data": {
      "text/plain": [
       "0"
      ]
     },
     "execution_count": 21,
     "metadata": {},
     "output_type": "execute_result"
    }
   ],
   "source": [
    "int(False) #int for False"
   ]
  },
  {
   "cell_type": "code",
   "execution_count": 22,
   "id": "d31f73d8",
   "metadata": {},
   "outputs": [
    {
     "data": {
      "text/plain": [
       "False"
      ]
     },
     "execution_count": 22,
     "metadata": {},
     "output_type": "execute_result"
    }
   ],
   "source": [
    "bool(0) "
   ]
  },
  {
   "cell_type": "code",
   "execution_count": 23,
   "id": "6f2237f9",
   "metadata": {},
   "outputs": [
    {
     "data": {
      "text/plain": [
       "True"
      ]
     },
     "execution_count": 23,
     "metadata": {},
     "output_type": "execute_result"
    }
   ],
   "source": [
    "bool(1.3)"
   ]
  },
  {
   "cell_type": "markdown",
   "id": "04a18f75",
   "metadata": {},
   "source": [
    "### bool(n) gives 1 for all n!=0"
   ]
  },
  {
   "cell_type": "code",
   "execution_count": 24,
   "id": "a7f32aa5",
   "metadata": {},
   "outputs": [
    {
     "data": {
      "text/plain": [
       "True"
      ]
     },
     "execution_count": 24,
     "metadata": {},
     "output_type": "execute_result"
    }
   ],
   "source": [
    "bool(-2)"
   ]
  },
  {
   "cell_type": "code",
   "execution_count": 25,
   "id": "b835d219",
   "metadata": {},
   "outputs": [
    {
     "data": {
      "text/plain": [
       "0"
      ]
     },
     "execution_count": 25,
     "metadata": {},
     "output_type": "execute_result"
    }
   ],
   "source": [
    "5* False # false behaves like 0"
   ]
  },
  {
   "cell_type": "code",
   "execution_count": 26,
   "id": "fd79b411",
   "metadata": {},
   "outputs": [
    {
     "data": {
      "text/plain": [
       "6"
      ]
     },
     "execution_count": 26,
     "metadata": {},
     "output_type": "execute_result"
    }
   ],
   "source": [
    "5+ True #true behaves like 1"
   ]
  },
  {
   "cell_type": "code",
   "execution_count": 27,
   "id": "b9a8af86",
   "metadata": {},
   "outputs": [],
   "source": [
    "d = (5==2) #assign boolean to a variable"
   ]
  },
  {
   "cell_type": "code",
   "execution_count": 28,
   "id": "15c22f0f",
   "metadata": {},
   "outputs": [
    {
     "data": {
      "text/plain": [
       "False"
      ]
     },
     "execution_count": 28,
     "metadata": {},
     "output_type": "execute_result"
    }
   ],
   "source": [
    "d"
   ]
  },
  {
   "cell_type": "code",
   "execution_count": 29,
   "id": "829c80f4",
   "metadata": {},
   "outputs": [
    {
     "data": {
      "text/plain": [
       "0"
      ]
     },
     "execution_count": 29,
     "metadata": {},
     "output_type": "execute_result"
    }
   ],
   "source": [
    "5*d #as d is 0"
   ]
  },
  {
   "cell_type": "markdown",
   "id": "acf73f75",
   "metadata": {},
   "source": [
    "## List can store boolean as well"
   ]
  },
  {
   "cell_type": "markdown",
   "id": "ebc9bb24",
   "metadata": {},
   "source": [
    "# Logical Operators (AND & OR | NOT )"
   ]
  },
  {
   "cell_type": "code",
   "execution_count": 30,
   "id": "71441d75",
   "metadata": {},
   "outputs": [
    {
     "data": {
      "text/plain": [
       "True"
      ]
     },
     "execution_count": 30,
     "metadata": {},
     "output_type": "execute_result"
    }
   ],
   "source": [
    "True and True "
   ]
  },
  {
   "cell_type": "code",
   "execution_count": 31,
   "id": "1ca6e8e8",
   "metadata": {},
   "outputs": [
    {
     "data": {
      "text/plain": [
       "True"
      ]
     },
     "execution_count": 31,
     "metadata": {},
     "output_type": "execute_result"
    }
   ],
   "source": [
    "True & True #& and \"and\" work the same"
   ]
  },
  {
   "cell_type": "code",
   "execution_count": 32,
   "id": "56f80e2d",
   "metadata": {},
   "outputs": [
    {
     "data": {
      "text/plain": [
       "False"
      ]
     },
     "execution_count": 32,
     "metadata": {},
     "output_type": "execute_result"
    }
   ],
   "source": [
    "True & False"
   ]
  },
  {
   "cell_type": "code",
   "execution_count": 33,
   "id": "d2495f27",
   "metadata": {},
   "outputs": [
    {
     "data": {
      "text/plain": [
       "True"
      ]
     },
     "execution_count": 33,
     "metadata": {},
     "output_type": "execute_result"
    }
   ],
   "source": [
    "True or True #true if 1 is true"
   ]
  },
  {
   "cell_type": "code",
   "execution_count": 34,
   "id": "5455eb15",
   "metadata": {},
   "outputs": [
    {
     "data": {
      "text/plain": [
       "True"
      ]
     },
     "execution_count": 34,
     "metadata": {},
     "output_type": "execute_result"
    }
   ],
   "source": [
    "True | False # | works in same way"
   ]
  },
  {
   "cell_type": "code",
   "execution_count": 35,
   "id": "1b0737c5",
   "metadata": {},
   "outputs": [
    {
     "data": {
      "text/plain": [
       "False"
      ]
     },
     "execution_count": 35,
     "metadata": {},
     "output_type": "execute_result"
    }
   ],
   "source": [
    "not True #reverses"
   ]
  },
  {
   "cell_type": "code",
   "execution_count": 36,
   "id": "a6878661",
   "metadata": {},
   "outputs": [
    {
     "name": "stderr",
     "output_type": "stream",
     "text": [
      "'True' is not recognized as an internal or external command,\n",
      "operable program or batch file.\n"
     ]
    }
   ],
   "source": [
    "!True"
   ]
  },
  {
   "cell_type": "markdown",
   "id": "808e2ca4",
   "metadata": {},
   "source": [
    "# 10 Conditional Statements if else elif while"
   ]
  },
  {
   "cell_type": "code",
   "execution_count": 37,
   "id": "c96ccf84",
   "metadata": {},
   "outputs": [],
   "source": [
    "a = 5"
   ]
  },
  {
   "cell_type": "code",
   "execution_count": 38,
   "id": "369cb722",
   "metadata": {},
   "outputs": [],
   "source": [
    "b = 5"
   ]
  },
  {
   "cell_type": "code",
   "execution_count": 39,
   "id": "d94e6111",
   "metadata": {},
   "outputs": [
    {
     "name": "stdout",
     "output_type": "stream",
     "text": [
      "a is less than 10\n"
     ]
    }
   ],
   "source": [
    "if a < 10:\n",
    "    print(\"a is less than 10\")\n",
    "else:\n",
    "    print(\"a is not greater than 10\")"
   ]
  },
  {
   "cell_type": "code",
   "execution_count": 40,
   "id": "02b41531",
   "metadata": {},
   "outputs": [
    {
     "name": "stdout",
     "output_type": "stream",
     "text": [
      "a is equal to b\n"
     ]
    }
   ],
   "source": [
    "if a > b:\n",
    "    print(\"a is greater than b\")\n",
    "elif a < b:\n",
    "    print(\"a is less than b\")\n",
    "else:\n",
    "    print(\"a is equal to b\")"
   ]
  },
  {
   "cell_type": "markdown",
   "id": "69faf2b2",
   "metadata": {},
   "source": [
    "## While loop\n"
   ]
  },
  {
   "cell_type": "code",
   "execution_count": 41,
   "id": "f879874d",
   "metadata": {},
   "outputs": [],
   "source": [
    "a = 10"
   ]
  },
  {
   "cell_type": "code",
   "execution_count": 42,
   "id": "97ac57d8",
   "metadata": {},
   "outputs": [
    {
     "name": "stdout",
     "output_type": "stream",
     "text": [
      "11\n",
      "12\n",
      "13\n",
      "14\n",
      "15\n",
      "16\n",
      "17\n",
      "18\n",
      "19\n",
      "20\n"
     ]
    }
   ],
   "source": [
    "a = 10\n",
    "while a < 20:\n",
    "    a += 1\n",
    "    print(a)"
   ]
  },
  {
   "cell_type": "code",
   "execution_count": 43,
   "id": "93af6e88",
   "metadata": {},
   "outputs": [
    {
     "data": {
      "text/plain": [
       "20"
      ]
     },
     "execution_count": 43,
     "metadata": {},
     "output_type": "execute_result"
    }
   ],
   "source": [
    "a"
   ]
  },
  {
   "cell_type": "markdown",
   "id": "b581f64b",
   "metadata": {},
   "source": [
    "# 11. For loops"
   ]
  },
  {
   "cell_type": "code",
   "execution_count": 44,
   "id": "29830a15",
   "metadata": {},
   "outputs": [],
   "source": [
    "l = [1,2,3,4,5]"
   ]
  },
  {
   "cell_type": "code",
   "execution_count": 45,
   "id": "e2e94ea3",
   "metadata": {},
   "outputs": [
    {
     "data": {
      "text/plain": [
       "[1, 2, 3, 4, 5, 1, 2, 3, 4, 5]"
      ]
     },
     "execution_count": 45,
     "metadata": {},
     "output_type": "execute_result"
    }
   ],
   "source": [
    "l*2"
   ]
  },
  {
   "cell_type": "code",
   "execution_count": 46,
   "id": "a8e015d7",
   "metadata": {},
   "outputs": [
    {
     "name": "stdout",
     "output_type": "stream",
     "text": [
      "1\n",
      "2\n",
      "3\n",
      "4\n",
      "5\n"
     ]
    }
   ],
   "source": [
    "for j in l:   #iteration of all elements in list \"l\"\n",
    "    print(j)"
   ]
  },
  {
   "cell_type": "code",
   "execution_count": 47,
   "id": "db4309f1",
   "metadata": {},
   "outputs": [
    {
     "name": "stdout",
     "output_type": "stream",
     "text": [
      "10\n",
      "10\n",
      "10\n",
      "10\n",
      "10\n"
     ]
    }
   ],
   "source": [
    "for i in l:\n",
    "    print(j*2)"
   ]
  },
  {
   "cell_type": "code",
   "execution_count": 48,
   "id": "7c7ed9af",
   "metadata": {},
   "outputs": [
    {
     "name": "stdout",
     "output_type": "stream",
     "text": [
      "2\n",
      "4\n",
      "6\n",
      "8\n",
      "10\n"
     ]
    }
   ],
   "source": [
    "for i in l:\n",
    "    print(i*2)"
   ]
  },
  {
   "cell_type": "code",
   "execution_count": 49,
   "id": "8c965894",
   "metadata": {},
   "outputs": [
    {
     "name": "stdout",
     "output_type": "stream",
     "text": [
      "2\n",
      "4\n",
      "6\n",
      "8\n",
      "10\n"
     ]
    }
   ],
   "source": [
    "for i in l:\n",
    "    i = i*2\n",
    "    print(i)\n",
    "    "
   ]
  },
  {
   "cell_type": "code",
   "execution_count": 50,
   "id": "a169ffa9",
   "metadata": {},
   "outputs": [
    {
     "data": {
      "text/plain": [
       "[1, 2, 3, 4, 5]"
      ]
     },
     "execution_count": 50,
     "metadata": {},
     "output_type": "execute_result"
    }
   ],
   "source": [
    "l"
   ]
  },
  {
   "cell_type": "code",
   "execution_count": 51,
   "id": "1080a41a",
   "metadata": {},
   "outputs": [],
   "source": [
    "for i in range(len(l)):\n",
    "    l[i] *= 2"
   ]
  },
  {
   "cell_type": "code",
   "execution_count": 52,
   "id": "ffdc752c",
   "metadata": {},
   "outputs": [
    {
     "data": {
      "text/plain": [
       "[2, 4, 6, 8, 10]"
      ]
     },
     "execution_count": 52,
     "metadata": {},
     "output_type": "execute_result"
    }
   ],
   "source": [
    "l"
   ]
  },
  {
   "cell_type": "code",
   "execution_count": 53,
   "id": "da45cb2b",
   "metadata": {},
   "outputs": [
    {
     "data": {
      "text/plain": [
       "'dogecoin'"
      ]
     },
     "execution_count": 53,
     "metadata": {},
     "output_type": "execute_result"
    }
   ],
   "source": [
    "d = \"dogecoin\"\n",
    "d"
   ]
  },
  {
   "cell_type": "code",
   "execution_count": 54,
   "id": "122db9b6",
   "metadata": {},
   "outputs": [
    {
     "name": "stdout",
     "output_type": "stream",
     "text": [
      "d\n",
      "o\n",
      "g\n",
      "e\n",
      "c\n",
      "o\n",
      "i\n",
      "n\n"
     ]
    }
   ],
   "source": [
    "for i in d:      #iteration over string element\n",
    "    print(i)"
   ]
  },
  {
   "cell_type": "code",
   "execution_count": 55,
   "id": "9a924828",
   "metadata": {},
   "outputs": [
    {
     "name": "stdout",
     "output_type": "stream",
     "text": [
      "D\n",
      "O\n",
      "G\n",
      "E\n",
      "C\n",
      "O\n",
      "I\n",
      "N\n"
     ]
    }
   ],
   "source": [
    "for i in d:\n",
    "    print(i.upper())"
   ]
  },
  {
   "cell_type": "code",
   "execution_count": 56,
   "id": "69ca8bb8",
   "metadata": {},
   "outputs": [
    {
     "data": {
      "text/plain": [
       "range(1, 5)"
      ]
     },
     "execution_count": 56,
     "metadata": {},
     "output_type": "execute_result"
    }
   ],
   "source": [
    "g = range(1,5)  # creating a range object including 1, excluding 5 (1,2,3,4)\n",
    "g"
   ]
  },
  {
   "cell_type": "code",
   "execution_count": 57,
   "id": "9b36ef98",
   "metadata": {},
   "outputs": [
    {
     "name": "stdout",
     "output_type": "stream",
     "text": [
      "O\n",
      "G\n",
      "E\n",
      "C\n"
     ]
    }
   ],
   "source": [
    "for i in range(1,5):\n",
    "    print(d[i].upper())"
   ]
  },
  {
   "cell_type": "code",
   "execution_count": 58,
   "id": "cebf71eb",
   "metadata": {},
   "outputs": [
    {
     "data": {
      "text/plain": [
       "[1, 2, 3, 4]"
      ]
     },
     "execution_count": 58,
     "metadata": {},
     "output_type": "execute_result"
    }
   ],
   "source": [
    "list(g)  #calling a range object by creating a list"
   ]
  },
  {
   "cell_type": "code",
   "execution_count": 59,
   "id": "3ced1489",
   "metadata": {},
   "outputs": [
    {
     "name": "stdout",
     "output_type": "stream",
     "text": [
      "0\n",
      "3\n",
      "6\n",
      "9\n"
     ]
    }
   ],
   "source": [
    "for i in range(0,10,3):  #from 0 to 9, every 3rd element\n",
    "    print(i)"
   ]
  },
  {
   "cell_type": "code",
   "execution_count": 60,
   "id": "a978d6ff",
   "metadata": {},
   "outputs": [
    {
     "data": {
      "text/plain": [
       "[1, 4, 9, 16, 25, 36, 49, 64, 81, 100]"
      ]
     },
     "execution_count": 60,
     "metadata": {},
     "output_type": "execute_result"
    }
   ],
   "source": [
    "l = []\n",
    "for i in range(1,11):\n",
    "    l.append(i**2)\n",
    "l"
   ]
  },
  {
   "cell_type": "markdown",
   "id": "cff0cc75",
   "metadata": {},
   "source": [
    "#### List comprehension"
   ]
  },
  {
   "cell_type": "code",
   "execution_count": 61,
   "id": "b0645de6",
   "metadata": {},
   "outputs": [
    {
     "data": {
      "text/plain": [
       "[1, 4, 9, 16, 25, 36, 49, 64, 81, 100]"
      ]
     },
     "execution_count": 61,
     "metadata": {},
     "output_type": "execute_result"
    }
   ],
   "source": [
    "[i**2 for i in range(1,11)] #list comprehension"
   ]
  },
  {
   "cell_type": "markdown",
   "id": "c8342282",
   "metadata": {},
   "source": [
    "### count all numbers b/w 0 and 10000 that are divisible by 2 and 5"
   ]
  },
  {
   "cell_type": "code",
   "execution_count": 62,
   "id": "9dc94ada",
   "metadata": {},
   "outputs": [
    {
     "data": {
      "text/plain": [
       "1001"
      ]
     },
     "execution_count": 62,
     "metadata": {},
     "output_type": "execute_result"
    }
   ],
   "source": [
    "count = 0\n",
    "for i in range(0,10001):\n",
    "    if(i % 2 == 0) & (i % 5 == 0 ):\n",
    "        count += 1\n",
    "count\n"
   ]
  },
  {
   "cell_type": "markdown",
   "id": "f5c30ee2",
   "metadata": {},
   "source": [
    "## continue, break and pass"
   ]
  },
  {
   "cell_type": "code",
   "execution_count": 63,
   "id": "d36858ca",
   "metadata": {},
   "outputs": [
    {
     "data": {
      "text/plain": [
       "[1, 3, 5, 7, 9, 10, 35, 26]"
      ]
     },
     "execution_count": 63,
     "metadata": {},
     "output_type": "execute_result"
    }
   ],
   "source": [
    "l = [1,3,5,7,9,10,35,26]\n",
    "l"
   ]
  },
  {
   "cell_type": "code",
   "execution_count": 64,
   "id": "320aa85d",
   "metadata": {},
   "outputs": [
    {
     "name": "stdout",
     "output_type": "stream",
     "text": [
      "1 is odd!\n",
      "3 is odd!\n",
      "5 is odd!\n",
      "7 is odd!\n",
      "9 is odd!\n",
      "The first even element is 10\n"
     ]
    }
   ],
   "source": [
    "#code for finding the first even element in a list\n",
    "for i in l:\n",
    "    if (i%2 == 0):\n",
    "        print(\"The first even element is {}\".format(i))\n",
    "        break   # loop ends when we find first even element\n",
    "    else:\n",
    "        print(\"{} is odd!\".format(i))"
   ]
  },
  {
   "cell_type": "code",
   "execution_count": 65,
   "id": "d65bfcdb",
   "metadata": {},
   "outputs": [
    {
     "name": "stdout",
     "output_type": "stream",
     "text": [
      "The first even element is 10\n"
     ]
    }
   ],
   "source": [
    "for i in l:\n",
    "    if (i%2 == 0):\n",
    "        print(\"The first even element is {}\".format(i))\n",
    "        break   # loop ends when we find first even element\n",
    "    else:\n",
    "        pass # do nothing"
   ]
  },
  {
   "cell_type": "code",
   "execution_count": 66,
   "id": "e3dc27c8",
   "metadata": {},
   "outputs": [
    {
     "name": "stdout",
     "output_type": "stream",
     "text": [
      "The first even element is 10\n"
     ]
    }
   ],
   "source": [
    "for i in l:\n",
    "    if i%2 != 0:\n",
    "        continue #do nothing and ignore this\n",
    "    else:\n",
    "        print(\"The first even element is {}\".format(i))\n",
    "        break;"
   ]
  },
  {
   "cell_type": "markdown",
   "id": "dbd0f92b",
   "metadata": {},
   "source": [
    "# 12 generating random numbers"
   ]
  },
  {
   "cell_type": "code",
   "execution_count": 67,
   "id": "295f12b3",
   "metadata": {},
   "outputs": [],
   "source": [
    "import random"
   ]
  },
  {
   "cell_type": "code",
   "execution_count": 68,
   "id": "a03f7d72",
   "metadata": {},
   "outputs": [
    {
     "data": {
      "text/plain": [
       "0.7688646489753189"
      ]
     },
     "execution_count": 68,
     "metadata": {},
     "output_type": "execute_result"
    }
   ],
   "source": [
    "random.random() #generate a random float b/w 0 and 1"
   ]
  },
  {
   "cell_type": "code",
   "execution_count": 69,
   "id": "265f32f2",
   "metadata": {},
   "outputs": [
    {
     "name": "stdout",
     "output_type": "stream",
     "text": [
      "0.9919672042667025\n",
      "0.792534855453397\n",
      "0.5789281568451821\n",
      "0.3321640091780024\n"
     ]
    }
   ],
   "source": [
    "for i in range(0,4):\n",
    "    print(random.random())\n",
    "    i += 1"
   ]
  },
  {
   "cell_type": "code",
   "execution_count": 70,
   "id": "8a371460",
   "metadata": {},
   "outputs": [
    {
     "name": "stdout",
     "output_type": "stream",
     "text": [
      "Random no.=  0.4407325991753527\n",
      "Random no.=  0.007491470058587191\n",
      "Random no.=  0.9109759624491242\n",
      "Random no.=  0.939268997363764\n"
     ]
    }
   ],
   "source": [
    "random.seed(1234)  #setting a random seed, if we put the same random seed, the random no. will be same each time\n",
    "random.random()\n",
    "for i in range(0,4):\n",
    "    print(\"Random no.= \" , random.random()) #tested and saw it doesn't work for loops, still generates same no.s but diff from each other\n",
    "    i += 1"
   ]
  },
  {
   "cell_type": "code",
   "execution_count": 71,
   "id": "577bb63c",
   "metadata": {},
   "outputs": [
    {
     "name": "stdout",
     "output_type": "stream",
     "text": [
      "Random no.=  0.9664535356921388\n",
      "Random no.=  0.9664535356921388\n",
      "Random no.=  0.9664535356921388\n",
      "Random no.=  0.9664535356921388\n"
     ]
    }
   ],
   "source": [
    "for i in range(0,4):\n",
    "    random.seed(1234)\n",
    "    print(\"Random no.= \" , random.random()) #tested and saw random seeding works for loop if seed statement is inside loop\n",
    "    i += 1"
   ]
  },
  {
   "cell_type": "code",
   "execution_count": 72,
   "id": "f42d0d29",
   "metadata": {},
   "outputs": [
    {
     "data": {
      "text/plain": [
       "57"
      ]
     },
     "execution_count": 72,
     "metadata": {},
     "output_type": "execute_result"
    }
   ],
   "source": [
    "random.randint(1,100) #generates interger b/w 1 and 100 (both included)"
   ]
  },
  {
   "cell_type": "code",
   "execution_count": 73,
   "id": "ecab96e3",
   "metadata": {},
   "outputs": [],
   "source": [
    "#making a list with random numbers\n",
    "l = []\n",
    "random.seed(123)\n",
    "for i in range(10):\n",
    "    l.append(random.randint(1,100))"
   ]
  },
  {
   "cell_type": "code",
   "execution_count": 74,
   "id": "8ea3d468",
   "metadata": {},
   "outputs": [
    {
     "data": {
      "text/plain": [
       "[7, 35, 12, 99, 53, 35, 14, 5, 49, 69]"
      ]
     },
     "execution_count": 74,
     "metadata": {},
     "output_type": "execute_result"
    }
   ],
   "source": [
    "l"
   ]
  },
  {
   "cell_type": "code",
   "execution_count": 75,
   "id": "e058d62e",
   "metadata": {},
   "outputs": [
    {
     "data": {
      "text/plain": [
       "10"
      ]
     },
     "execution_count": 75,
     "metadata": {},
     "output_type": "execute_result"
    }
   ],
   "source": [
    "len(l)"
   ]
  },
  {
   "cell_type": "markdown",
   "id": "d0bb9274",
   "metadata": {},
   "source": [
    "# 13 user defined functions"
   ]
  },
  {
   "cell_type": "code",
   "execution_count": 76,
   "id": "d64afba2",
   "metadata": {},
   "outputs": [],
   "source": [
    "l = [1,2,3,4,5,6]"
   ]
  },
  {
   "cell_type": "code",
   "execution_count": 77,
   "id": "c2560f52",
   "metadata": {},
   "outputs": [],
   "source": [
    "def mean(x):  #defining function mean\n",
    "    mean = sum(x) / len(x)\n",
    "    return mean"
   ]
  },
  {
   "cell_type": "code",
   "execution_count": 78,
   "id": "493646a8",
   "metadata": {},
   "outputs": [
    {
     "data": {
      "text/plain": [
       "3.5"
      ]
     },
     "execution_count": 78,
     "metadata": {},
     "output_type": "execute_result"
    }
   ],
   "source": [
    "mean(l)"
   ]
  },
  {
   "cell_type": "code",
   "execution_count": 79,
   "id": "26541999",
   "metadata": {},
   "outputs": [],
   "source": [
    "t = (4,5,6,7)"
   ]
  },
  {
   "cell_type": "code",
   "execution_count": 80,
   "id": "b54d5f15",
   "metadata": {},
   "outputs": [
    {
     "data": {
      "text/plain": [
       "5.5"
      ]
     },
     "execution_count": 80,
     "metadata": {},
     "output_type": "execute_result"
    }
   ],
   "source": [
    "mean(t)"
   ]
  },
  {
   "cell_type": "code",
   "execution_count": 81,
   "id": "578bfdaa",
   "metadata": {},
   "outputs": [],
   "source": [
    "def square(x): # x with no default value\n",
    "    return x**2"
   ]
  },
  {
   "cell_type": "code",
   "execution_count": 82,
   "id": "c0193d8b",
   "metadata": {},
   "outputs": [
    {
     "data": {
      "text/plain": [
       "16"
      ]
     },
     "execution_count": 82,
     "metadata": {},
     "output_type": "execute_result"
    }
   ],
   "source": [
    "square(4)"
   ]
  },
  {
   "cell_type": "code",
   "execution_count": 83,
   "id": "2b8aa5b9",
   "metadata": {},
   "outputs": [],
   "source": [
    "def square2(x = 2): # parameter x with  default value 2\n",
    "    return x**2"
   ]
  },
  {
   "cell_type": "code",
   "execution_count": 84,
   "id": "594c4f12",
   "metadata": {},
   "outputs": [
    {
     "data": {
      "text/plain": [
       "4"
      ]
     },
     "execution_count": 84,
     "metadata": {},
     "output_type": "execute_result"
    }
   ],
   "source": [
    "square2()"
   ]
  },
  {
   "cell_type": "markdown",
   "id": "f942542a",
   "metadata": {},
   "source": [
    "### function with multiple parameters"
   ]
  },
  {
   "cell_type": "code",
   "execution_count": 85,
   "id": "d9f07098",
   "metadata": {},
   "outputs": [],
   "source": [
    "def power(x,y):\n",
    "    return x**y"
   ]
  },
  {
   "cell_type": "code",
   "execution_count": 86,
   "id": "86494ccb",
   "metadata": {},
   "outputs": [
    {
     "data": {
      "text/plain": [
       "8"
      ]
     },
     "execution_count": 86,
     "metadata": {},
     "output_type": "execute_result"
    }
   ],
   "source": [
    "power(2,3)"
   ]
  },
  {
   "cell_type": "markdown",
   "id": "0f49f7cd",
   "metadata": {},
   "source": [
    "### parameters are x and y, while 2 and 3 are arguments, the values passed on to the parameters"
   ]
  },
  {
   "cell_type": "code",
   "execution_count": 87,
   "id": "d0136dea",
   "metadata": {},
   "outputs": [
    {
     "data": {
      "text/plain": [
       "16"
      ]
     },
     "execution_count": 87,
     "metadata": {},
     "output_type": "execute_result"
    }
   ],
   "source": [
    "power(x =2, y = 4) #explicitly alloting arguments (called keyword arguments)"
   ]
  },
  {
   "cell_type": "code",
   "execution_count": 88,
   "id": "db4d1bb2",
   "metadata": {},
   "outputs": [
    {
     "ename": "SyntaxError",
     "evalue": "positional argument follows keyword argument (<ipython-input-88-0227a1dde165>, line 1)",
     "output_type": "error",
     "traceback": [
      "\u001b[1;36m  File \u001b[1;32m\"<ipython-input-88-0227a1dde165>\"\u001b[1;36m, line \u001b[1;32m1\u001b[0m\n\u001b[1;33m    power(x = 2, 3) # ERROR! keyword argument must follow positional argument\u001b[0m\n\u001b[1;37m                 ^\u001b[0m\n\u001b[1;31mSyntaxError\u001b[0m\u001b[1;31m:\u001b[0m positional argument follows keyword argument\n"
     ]
    }
   ],
   "source": [
    "power(x = 2, 3) # ERROR! keyword argument must follow positional argument"
   ]
  },
  {
   "cell_type": "code",
   "execution_count": null,
   "id": "72db7d29",
   "metadata": {},
   "outputs": [],
   "source": [
    "power(2,y = 3) # NO ERROR!"
   ]
  },
  {
   "cell_type": "code",
   "execution_count": null,
   "id": "793eabfc",
   "metadata": {},
   "outputs": [],
   "source": [
    "z = power(2,y = 3) # assigning returned value of function to variable\n",
    "z"
   ]
  },
  {
   "cell_type": "markdown",
   "id": "958e17cc",
   "metadata": {},
   "source": [
    "### function returning multiple values"
   ]
  },
  {
   "cell_type": "code",
   "execution_count": null,
   "id": "d932e0c2",
   "metadata": {},
   "outputs": [],
   "source": [
    "def calc(x,y):\n",
    "    return x+y, x-y, x*y"
   ]
  },
  {
   "cell_type": "code",
   "execution_count": null,
   "id": "d5da663b",
   "metadata": {},
   "outputs": [],
   "source": [
    "calc(4,6)"
   ]
  },
  {
   "cell_type": "code",
   "execution_count": null,
   "id": "a13cbca7",
   "metadata": {},
   "outputs": [],
   "source": [
    "c = calc(4,6)  # assign return tuple to variable c\n",
    "c"
   ]
  },
  {
   "cell_type": "code",
   "execution_count": null,
   "id": "08d6f29f",
   "metadata": {},
   "outputs": [],
   "source": [
    "add, sub, mul = c # unpack tuple to 3 variables\n",
    "print(add, sub, mul, sep = \"\\n\" )"
   ]
  },
  {
   "cell_type": "markdown",
   "id": "fc77a06b",
   "metadata": {},
   "source": [
    "### conditional return"
   ]
  },
  {
   "cell_type": "code",
   "execution_count": null,
   "id": "56ebb990",
   "metadata": {},
   "outputs": [],
   "source": [
    "def calculate(x,y):\n",
    "    if x < y:\n",
    "        return \"y is greater\"\n",
    "    if x > y:\n",
    "        return \"y is greater\"\n",
    "    if x==y:\n",
    "        return \"both are equal\"\n",
    "        "
   ]
  },
  {
   "cell_type": "code",
   "execution_count": null,
   "id": "7aa8d0fd",
   "metadata": {},
   "outputs": [],
   "source": [
    "calculate(3,4)"
   ]
  },
  {
   "cell_type": "markdown",
   "id": "bbe5a3ba",
   "metadata": {},
   "source": [
    "# 14 visualisation with Matplotlib"
   ]
  },
  {
   "cell_type": "code",
   "execution_count": 91,
   "id": "5746b8e9",
   "metadata": {},
   "outputs": [],
   "source": [
    "import matplotlib.pyplot as plt  # importing plotting framework of matplotlib\n",
    "%matplotlib inline"
   ]
  },
  {
   "cell_type": "code",
   "execution_count": 93,
   "id": "94c56a4f",
   "metadata": {},
   "outputs": [
    {
     "data": {
      "text/plain": [
       "[1, 3, 0, 5, -7]"
      ]
     },
     "execution_count": 93,
     "metadata": {},
     "output_type": "execute_result"
    }
   ],
   "source": [
    "l = [1,3,0,5,-7]\n",
    "l"
   ]
  },
  {
   "cell_type": "code",
   "execution_count": 94,
   "id": "7cb7c31a",
   "metadata": {},
   "outputs": [
    {
     "data": {
      "image/png": "[encoded data removed]",
      "text/plain": [
       "<Figure size 432x288 with 1 Axes>"
      ]
     },
     "metadata": {
      "needs_background": "light"
     },
     "output_type": "display_data"
    }
   ],
   "source": [
    "plt.plot(l) # create a line plot of l\n",
    "plt.show()"
   ]
  },
  {
   "cell_type": "code",
   "execution_count": 95,
   "id": "4eefe968",
   "metadata": {},
   "outputs": [
    {
     "data": {
      "image/png": "[encoded data removed]",
      "text/plain": [
       "<Figure size 432x288 with 1 Axes>"
      ]
     },
     "metadata": {
      "needs_background": "light"
     },
     "output_type": "display_data"
    }
   ],
   "source": [
    "plt.plot(range(5,10),l) # defines x axis values for y axis values l\n",
    "plt.show()"
   ]
  },
  {
   "cell_type": "code",
   "execution_count": 96,
   "id": "e5117ca3",
   "metadata": {},
   "outputs": [
    {
     "data": {
      "image/png": "[encoded data removed]",
      "text/plain": [
       "<Figure size 432x288 with 1 Axes>"
      ]
     },
     "metadata": {
      "needs_background": "light"
     },
     "output_type": "display_data"
    }
   ],
   "source": [
    "plt.scatter( x = range(5), y = l) # scatterplot\n",
    "plt.show()"
   ]
  },
  {
   "cell_type": "code",
   "execution_count": 97,
   "id": "fa6b627c",
   "metadata": {},
   "outputs": [],
   "source": [
    "import random"
   ]
  },
  {
   "cell_type": "code",
   "execution_count": 98,
   "id": "29ea622c",
   "metadata": {},
   "outputs": [
    {
     "data": {
      "text/plain": [
       "[54.10831910674443,\n",
       " 55.464999932370766,\n",
       " 58.59387923279228,\n",
       " 52.90409911505851,\n",
       " 54.40090824457344,\n",
       " 55.90006689825294,\n",
       " 52.130707696741624,\n",
       " 55.85706635424173,\n",
       " 48.23575810423272,\n",
       " 48.570840958391635]"
      ]
     },
     "execution_count": 98,
     "metadata": {},
     "output_type": "execute_result"
    }
   ],
   "source": [
    "random.seed(123)\n",
    "speed_ny = [random.normalvariate(55, 5) for i in range(10000)]  #creates 10k normal distributed random values\n",
    "speed_ny[:10]"
   ]
  },
  {
   "cell_type": "code",
   "execution_count": 99,
   "id": "aa6221e4",
   "metadata": {},
   "outputs": [
    {
     "data": {
      "image/png": "[encoded data removed]",
      "text/plain": [
       "<Figure size 432x288 with 1 Axes>"
      ]
     },
     "metadata": {
      "needs_background": "light"
     },
     "output_type": "display_data"
    }
   ],
   "source": [
    "plt.hist(speed_ny, bins=100) #creating a histogram of list speed with 100 bins\n",
    "plt.show()"
   ]
  },
  {
   "cell_type": "code",
   "execution_count": 103,
   "id": "77605135",
   "metadata": {},
   "outputs": [
    {
     "data": {
      "image/png": "[encoded data removed]",
      "text/plain": [
       "<Figure size 720x432 with 1 Axes>"
      ]
     },
     "metadata": {},
     "output_type": "display_data"
    }
   ],
   "source": [
    "plt.style.use(\"seaborn\") #change style to seaborn\n",
    "plt.figure(figsize = (10,6)) #change size of graph\n",
    "plt.hist(speed_ny, bins = 100, alpha = 0.5, color = \"red\", label= \"New York Data\")\n",
    "plt.hist(speed_bo, bins = 100, label = \"Boston Data\" , color = \"blue\", alpha = 0.5)\n",
    "plt.vlines(sum(speed_bo) / len(speed_bo) , 0,410, color = \"blue\", label = \"Mean Boston\" , linestyles= \"--\")\n",
    "plt.title(\"Measured Car speed (Speed Limit 50mph)\", fontsize = 15) #set title and font size\n",
    "plt.xlabel(\"Speed\") #label x-axis\n",
    "plt.ylabel(\"Occurences\") #label y-axis\n",
    "plt.vlines(sum(speed_ny) / len(speed_ny) , 0,410, color = \"red\", linestyle = \"--\" , label= \"Mean New York\") #vertical line at mean\n",
    "plt.axis((30,90,0,413))  #set range of axis\n",
    "plt.xticks(range(30,91,5)) #set ticks on x axix\n",
    "plt.yticks(range(0,401,50))  #set ticks on y axis\n",
    "plt.grid(True) #enable/disable grid \n",
    "plt.legend(loc = \"center right\", fontsize = 13) #set legend, loc= location\n",
    "plt.show() "
   ]
  },
  {
   "cell_type": "code",
   "execution_count": 102,
   "id": "715197bf",
   "metadata": {},
   "outputs": [
    {
     "data": {
      "text/plain": [
       "[54.01378645297394,\n",
       " 66.10476445852356,\n",
       " 53.688114538492776,\n",
       " 61.513152529610636,\n",
       " 71.76725356019517,\n",
       " 56.540314406488804,\n",
       " 50.5675765064478,\n",
       " 51.023823862222244,\n",
       " 60.16678229371311,\n",
       " 58.78632575308348]"
      ]
     },
     "execution_count": 102,
     "metadata": {},
     "output_type": "execute_result"
    }
   ],
   "source": [
    "speed_bo = [random.normalvariate(60,8) for i in range(10000)] #boston speed data\n",
    "speed_bo[:10] "
   ]
  },
  {
   "cell_type": "code",
   "execution_count": null,
   "id": "d9e8d3cf",
   "metadata": {},
   "outputs": [],
   "source": []
  },
  {
   "cell_type": "code",
   "execution_count": null,
   "id": "845c5c66",
   "metadata": {},
   "outputs": [],
   "source": []
  }
 ],
 "metadata": {
  "kernelspec": {
   "display_name": "Python 3",
   "language": "python",
   "name": "python3"
  },
  "language_info": {
   "codemirror_mode": {
    "name": "ipython",
    "version": 3
   },
   "file_extension": ".py",
   "mimetype": "text/x-python",
   "name": "python",
   "nbconvert_exporter": "python",
   "pygments_lexer": "ipython3",
   "version": "3.8.8"
  }
 },
 "nbformat": 4,
 "nbformat_minor": 5
}
